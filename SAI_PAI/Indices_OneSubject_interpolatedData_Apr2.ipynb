{
 "cells": [
  {
   "cell_type": "markdown",
   "id": "a14fb5bd",
   "metadata": {},
   "source": [
    "### Experiment Protocols"
   ]
  },
  {
   "cell_type": "markdown",
   "id": "dc91b820",
   "metadata": {},
   "source": [
    "Subjects rested on a tilt table with foot support and subsequently underwent a series of six changes in posture: \n",
    "- Two stand-ups, (= 6 min)\n",
    "- Two rapid HUTs (75◦ HUT over 2 secs), and (= 6 min)\n",
    "- Two slow HUTs (75◦ HUT over 50 secs) (= 6 min)\n",
    "- Each lasting for three minutes and separated by five minutes in the resting supine position.\n",
    "- The sequence of six interventions was randomized for each subject.\n",
    "- At the conclusion of the final intervention, the subject was returned to the horizontal position for a final five minutes of   supine baseline recording.\n",
    "\n",
    "For six postural changes:\n",
    "- Rest -> PC -> Rest -> PC -> Rest -> PC -> Rest -> PC -> Rest -> PC -> Rest -> PC -> Rest ( atleast 35 + 18 = 53 min of data)\n",
    "#### The data is interpolated for the first 2 protocols"
   ]
  },
  {
   "cell_type": "code",
   "execution_count": 1,
   "id": "fcfc3554",
   "metadata": {},
   "outputs": [],
   "source": [
    "%matplotlib inline\n",
    "import os\n",
    "import math\n",
    "\n",
    "import numpy as np\n",
    "import pandas as pd\n",
    "from scipy.interpolate import interp1d\n",
    "\n",
    "from LaguerreCalc import phi_j, l_j, lagl_j # call laguerre related functions from .py file\n",
    "\n",
    "import scipy.stats as stats\n",
    "import matplotlib.pyplot as plt\n",
    "from scipy.signal import find_peaks\n",
    "\n",
    "# ECG processing libraries\n",
    "import scipy.signal \n",
    "import peakutils\n",
    "import heartpy as hp\n",
    "import wfdb\n",
    "from wfdb import processing\n"
   ]
  },
  {
   "cell_type": "markdown",
   "id": "3f077ae6",
   "metadata": {},
   "source": [
    "#### Value of constants"
   ]
  },
  {
   "cell_type": "code",
   "execution_count": 2,
   "id": "69c558f5",
   "metadata": {},
   "outputs": [],
   "source": [
    "alpha = .2\n",
    "J = 9\n",
    "N1 = 2\n",
    "N2 = 7\n",
    "W_n = 90\n",
    "\n",
    "num_parameters = 10\n",
    "forgetting_factor = .98\n",
    "\n",
    "# Values taken from related paper\n",
    "coeff_S = [39.2343, 10.1963, -5.9242] \n",
    "coeff_P = [28.4875, -17.3627, 5.8798, 12.0628, 5.6408, -7.0664, -5.6779, -3.9474]\n"
   ]
  },
  {
   "cell_type": "markdown",
   "id": "d44ba57a",
   "metadata": {},
   "source": [
    "#### Functions declared"
   ]
  },
  {
   "cell_type": "code",
   "execution_count": 3,
   "id": "928ee424",
   "metadata": {},
   "outputs": [],
   "source": [
    "def normalize(x):\n",
    "    x = x - np.mean(x)\n",
    "    return x/np.std(x)"
   ]
  },
  {
   "cell_type": "code",
   "execution_count": null,
   "id": "b9925716",
   "metadata": {},
   "outputs": [],
   "source": []
  },
  {
   "cell_type": "markdown",
   "id": "439fe226",
   "metadata": {},
   "source": [
    "#### Read one ECG recording in wfdb format"
   ]
  },
  {
   "cell_type": "code",
   "execution_count": 4,
   "id": "66a14bbc",
   "metadata": {},
   "outputs": [
    {
     "data": {
      "text/plain": [
       "{'record_name': '12726',\n",
       " 'n_sig': 3,\n",
       " 'fs': 250,\n",
       " 'counter_freq': 24000.0,\n",
       " 'base_counter': None,\n",
       " 'sig_len': 825000,\n",
       " 'base_time': datetime.time(15, 8, 24),\n",
       " 'base_date': None,\n",
       " 'comments': ['<age>: 28  <sex>: M  <Height>: 170  <Weight>: 64',\n",
       "  'Produced by xform from record 12726_orig, beginning at 0:0'],\n",
       " 'sig_name': ['ABP', 'ECG', 'Angle'],\n",
       " 'p_signal': array([[ 6.24804749e+01, -1.98291120e+00, -4.57587371e-02],\n",
       "        [ 6.21055920e+01, -1.98962466e+00, -4.57587371e-02],\n",
       "        [ 6.14807873e+01, -1.97070491e+00, -4.57587371e-02],\n",
       "        ...,\n",
       "        [ 8.12246173e-01,  6.10314312e-04, -1.60155580e-01],\n",
       "        [ 8.12246173e-01,  6.10314312e-04, -1.60155580e-01],\n",
       "        [ 8.12246173e-01,  6.10314312e-04, -1.60155580e-01]]),\n",
       " 'd_signal': None,\n",
       " 'e_p_signal': None,\n",
       " 'e_d_signal': None,\n",
       " 'file_name': ['12726.dat', '12726.dat', '12726.dat'],\n",
       " 'fmt': ['16', '16', '16'],\n",
       " 'samps_per_frame': [1, 1, 1],\n",
       " 'skew': [None, None, None],\n",
       " 'byte_offset': [None, None, None],\n",
       " 'adc_gain': [64.02, 6554.0, 174.83],\n",
       " 'baseline': [4, 0, 11204],\n",
       " 'units': ['mmHg', 'mV', 'degrees'],\n",
       " 'adc_res': [16, 16, 16],\n",
       " 'adc_zero': [0, 0, 0],\n",
       " 'init_value': [4004, -12996, 11196],\n",
       " 'checksum': [-26056, -24904, 11564],\n",
       " 'block_size': [0, 0, 0]}"
      ]
     },
     "metadata": {},
     "output_type": "display_data"
    }
   ],
   "source": [
    "# Plot the signals, and show the data.\n",
    "record = wfdb.rdrecord('changes-in-postureData/12726') \n",
    "#wfdb.plot_wfdb(record=record, title='Record 12726 from PhysioNet Postural Data', figsize=(12,10)) \n",
    "display(record.__dict__)"
   ]
  },
  {
   "cell_type": "code",
   "execution_count": 5,
   "id": "2d91820a",
   "metadata": {},
   "outputs": [
    {
     "data": {
      "text/html": [
       "<div>\n",
       "<style scoped>\n",
       "    .dataframe tbody tr th:only-of-type {\n",
       "        vertical-align: middle;\n",
       "    }\n",
       "\n",
       "    .dataframe tbody tr th {\n",
       "        vertical-align: top;\n",
       "    }\n",
       "\n",
       "    .dataframe thead th {\n",
       "        text-align: right;\n",
       "    }\n",
       "</style>\n",
       "<table border=\"1\" class=\"dataframe\">\n",
       "  <thead>\n",
       "    <tr style=\"text-align: right;\">\n",
       "      <th></th>\n",
       "      <th>ABP</th>\n",
       "      <th>ECG</th>\n",
       "      <th>Angle</th>\n",
       "    </tr>\n",
       "  </thead>\n",
       "  <tbody>\n",
       "    <tr>\n",
       "      <th>0 days 00:00:00</th>\n",
       "      <td>62.480475</td>\n",
       "      <td>-1.982911</td>\n",
       "      <td>-0.045759</td>\n",
       "    </tr>\n",
       "    <tr>\n",
       "      <th>0 days 00:00:00.004000</th>\n",
       "      <td>62.105592</td>\n",
       "      <td>-1.989625</td>\n",
       "      <td>-0.045759</td>\n",
       "    </tr>\n",
       "    <tr>\n",
       "      <th>0 days 00:00:00.008000</th>\n",
       "      <td>61.480787</td>\n",
       "      <td>-1.970705</td>\n",
       "      <td>-0.045759</td>\n",
       "    </tr>\n",
       "    <tr>\n",
       "      <th>0 days 00:00:00.012000</th>\n",
       "      <td>61.168385</td>\n",
       "      <td>-1.966433</td>\n",
       "      <td>-0.045759</td>\n",
       "    </tr>\n",
       "    <tr>\n",
       "      <th>0 days 00:00:00.016000</th>\n",
       "      <td>60.855983</td>\n",
       "      <td>-1.979860</td>\n",
       "      <td>-0.045759</td>\n",
       "    </tr>\n",
       "    <tr>\n",
       "      <th>...</th>\n",
       "      <td>...</td>\n",
       "      <td>...</td>\n",
       "      <td>...</td>\n",
       "    </tr>\n",
       "    <tr>\n",
       "      <th>0 days 00:54:59.980000</th>\n",
       "      <td>0.812246</td>\n",
       "      <td>0.000610</td>\n",
       "      <td>-0.160156</td>\n",
       "    </tr>\n",
       "    <tr>\n",
       "      <th>0 days 00:54:59.984000</th>\n",
       "      <td>0.812246</td>\n",
       "      <td>0.000610</td>\n",
       "      <td>-0.160156</td>\n",
       "    </tr>\n",
       "    <tr>\n",
       "      <th>0 days 00:54:59.988000</th>\n",
       "      <td>0.812246</td>\n",
       "      <td>0.000610</td>\n",
       "      <td>-0.160156</td>\n",
       "    </tr>\n",
       "    <tr>\n",
       "      <th>0 days 00:54:59.992000</th>\n",
       "      <td>0.812246</td>\n",
       "      <td>0.000610</td>\n",
       "      <td>-0.160156</td>\n",
       "    </tr>\n",
       "    <tr>\n",
       "      <th>0 days 00:54:59.996000</th>\n",
       "      <td>0.812246</td>\n",
       "      <td>0.000610</td>\n",
       "      <td>-0.160156</td>\n",
       "    </tr>\n",
       "  </tbody>\n",
       "</table>\n",
       "<p>825000 rows × 3 columns</p>\n",
       "</div>"
      ],
      "text/plain": [
       "                              ABP       ECG     Angle\n",
       "0 days 00:00:00         62.480475 -1.982911 -0.045759\n",
       "0 days 00:00:00.004000  62.105592 -1.989625 -0.045759\n",
       "0 days 00:00:00.008000  61.480787 -1.970705 -0.045759\n",
       "0 days 00:00:00.012000  61.168385 -1.966433 -0.045759\n",
       "0 days 00:00:00.016000  60.855983 -1.979860 -0.045759\n",
       "...                           ...       ...       ...\n",
       "0 days 00:54:59.980000   0.812246  0.000610 -0.160156\n",
       "0 days 00:54:59.984000   0.812246  0.000610 -0.160156\n",
       "0 days 00:54:59.988000   0.812246  0.000610 -0.160156\n",
       "0 days 00:54:59.992000   0.812246  0.000610 -0.160156\n",
       "0 days 00:54:59.996000   0.812246  0.000610 -0.160156\n",
       "\n",
       "[825000 rows x 3 columns]"
      ]
     },
     "execution_count": 5,
     "metadata": {},
     "output_type": "execute_result"
    }
   ],
   "source": [
    "#Convert record into dataframe whose index is TimedeltaIndex\n",
    "record_df = record.to_dataframe()\n",
    "record_df"
   ]
  },
  {
   "cell_type": "code",
   "execution_count": 6,
   "id": "468f2ffc",
   "metadata": {},
   "outputs": [],
   "source": [
    "# ECG data is saved in an array\n",
    "# ecg_data = record.p_signal[:,1]\n",
    "ecg_df = pd.DataFrame(record_df.iloc[:,1])\n",
    "angle_df = pd.DataFrame(record_df.iloc[:,2])\n"
   ]
  },
  {
   "cell_type": "markdown",
   "id": "4f671b1a",
   "metadata": {},
   "source": [
    "#### Working with angle_data"
   ]
  },
  {
   "cell_type": "code",
   "execution_count": 7,
   "id": "9bba3e70",
   "metadata": {},
   "outputs": [
    {
     "data": {
      "text/html": [
       "<div>\n",
       "<style scoped>\n",
       "    .dataframe tbody tr th:only-of-type {\n",
       "        vertical-align: middle;\n",
       "    }\n",
       "\n",
       "    .dataframe tbody tr th {\n",
       "        vertical-align: top;\n",
       "    }\n",
       "\n",
       "    .dataframe thead th {\n",
       "        text-align: right;\n",
       "    }\n",
       "</style>\n",
       "<table border=\"1\" class=\"dataframe\">\n",
       "  <thead>\n",
       "    <tr style=\"text-align: right;\">\n",
       "      <th></th>\n",
       "      <th>Angle</th>\n",
       "    </tr>\n",
       "  </thead>\n",
       "  <tbody>\n",
       "    <tr>\n",
       "      <th>0 days 00:00:00</th>\n",
       "      <td>-0.045759</td>\n",
       "    </tr>\n",
       "    <tr>\n",
       "      <th>0 days 00:00:00.004000</th>\n",
       "      <td>-0.045759</td>\n",
       "    </tr>\n",
       "    <tr>\n",
       "      <th>0 days 00:00:00.008000</th>\n",
       "      <td>-0.045759</td>\n",
       "    </tr>\n",
       "    <tr>\n",
       "      <th>0 days 00:00:00.012000</th>\n",
       "      <td>-0.045759</td>\n",
       "    </tr>\n",
       "    <tr>\n",
       "      <th>0 days 00:00:00.016000</th>\n",
       "      <td>-0.045759</td>\n",
       "    </tr>\n",
       "  </tbody>\n",
       "</table>\n",
       "</div>"
      ],
      "text/plain": [
       "                           Angle\n",
       "0 days 00:00:00        -0.045759\n",
       "0 days 00:00:00.004000 -0.045759\n",
       "0 days 00:00:00.008000 -0.045759\n",
       "0 days 00:00:00.012000 -0.045759\n",
       "0 days 00:00:00.016000 -0.045759"
      ]
     },
     "execution_count": 7,
     "metadata": {},
     "output_type": "execute_result"
    }
   ],
   "source": [
    "angle_df.head()"
   ]
  },
  {
   "cell_type": "markdown",
   "id": "fa3dac2b",
   "metadata": {},
   "source": [
    "#### Working with ECG data"
   ]
  },
  {
   "cell_type": "code",
   "execution_count": 8,
   "id": "27ed0cda",
   "metadata": {},
   "outputs": [
    {
     "data": {
      "text/html": [
       "<div>\n",
       "<style scoped>\n",
       "    .dataframe tbody tr th:only-of-type {\n",
       "        vertical-align: middle;\n",
       "    }\n",
       "\n",
       "    .dataframe tbody tr th {\n",
       "        vertical-align: top;\n",
       "    }\n",
       "\n",
       "    .dataframe thead th {\n",
       "        text-align: right;\n",
       "    }\n",
       "</style>\n",
       "<table border=\"1\" class=\"dataframe\">\n",
       "  <thead>\n",
       "    <tr style=\"text-align: right;\">\n",
       "      <th></th>\n",
       "      <th>ECG</th>\n",
       "    </tr>\n",
       "  </thead>\n",
       "  <tbody>\n",
       "    <tr>\n",
       "      <th>0 days 00:00:00</th>\n",
       "      <td>-1.982911</td>\n",
       "    </tr>\n",
       "    <tr>\n",
       "      <th>0 days 00:00:00.004000</th>\n",
       "      <td>-1.989625</td>\n",
       "    </tr>\n",
       "    <tr>\n",
       "      <th>0 days 00:00:00.008000</th>\n",
       "      <td>-1.970705</td>\n",
       "    </tr>\n",
       "    <tr>\n",
       "      <th>0 days 00:00:00.012000</th>\n",
       "      <td>-1.966433</td>\n",
       "    </tr>\n",
       "    <tr>\n",
       "      <th>0 days 00:00:00.016000</th>\n",
       "      <td>-1.979860</td>\n",
       "    </tr>\n",
       "    <tr>\n",
       "      <th>...</th>\n",
       "      <td>...</td>\n",
       "    </tr>\n",
       "    <tr>\n",
       "      <th>0 days 00:54:59.980000</th>\n",
       "      <td>0.000610</td>\n",
       "    </tr>\n",
       "    <tr>\n",
       "      <th>0 days 00:54:59.984000</th>\n",
       "      <td>0.000610</td>\n",
       "    </tr>\n",
       "    <tr>\n",
       "      <th>0 days 00:54:59.988000</th>\n",
       "      <td>0.000610</td>\n",
       "    </tr>\n",
       "    <tr>\n",
       "      <th>0 days 00:54:59.992000</th>\n",
       "      <td>0.000610</td>\n",
       "    </tr>\n",
       "    <tr>\n",
       "      <th>0 days 00:54:59.996000</th>\n",
       "      <td>0.000610</td>\n",
       "    </tr>\n",
       "  </tbody>\n",
       "</table>\n",
       "<p>825000 rows × 1 columns</p>\n",
       "</div>"
      ],
      "text/plain": [
       "                             ECG\n",
       "0 days 00:00:00        -1.982911\n",
       "0 days 00:00:00.004000 -1.989625\n",
       "0 days 00:00:00.008000 -1.970705\n",
       "0 days 00:00:00.012000 -1.966433\n",
       "0 days 00:00:00.016000 -1.979860\n",
       "...                          ...\n",
       "0 days 00:54:59.980000  0.000610\n",
       "0 days 00:54:59.984000  0.000610\n",
       "0 days 00:54:59.988000  0.000610\n",
       "0 days 00:54:59.992000  0.000610\n",
       "0 days 00:54:59.996000  0.000610\n",
       "\n",
       "[825000 rows x 1 columns]"
      ]
     },
     "execution_count": 8,
     "metadata": {},
     "output_type": "execute_result"
    }
   ],
   "source": [
    "# ecg_data\n",
    "ecg_df"
   ]
  },
  {
   "cell_type": "code",
   "execution_count": 9,
   "id": "76c51343",
   "metadata": {},
   "outputs": [],
   "source": [
    "# using heartpy.process, wd = working_data dict in which results are stored, measures(m): measures dict in which results are stored\n",
    "wd_band, m_band = hp.process(ecg_df['ECG'], sample_rate = record.fs)\n"
   ]
  },
  {
   "cell_type": "code",
   "execution_count": 10,
   "id": "65906417",
   "metadata": {},
   "outputs": [
    {
     "data": {
      "text/plain": [
       "812857"
      ]
     },
     "execution_count": 10,
     "metadata": {},
     "output_type": "execute_result"
    }
   ],
   "source": [
    "wd_band['peaklist'][-1]\n"
   ]
  },
  {
   "cell_type": "code",
   "execution_count": 11,
   "id": "ce17ed24",
   "metadata": {},
   "outputs": [
    {
     "data": {
      "text/plain": [
       "3800"
      ]
     },
     "execution_count": 11,
     "metadata": {},
     "output_type": "execute_result"
    }
   ],
   "source": [
    "# number of RR peaks\n",
    "len(wd_band['peaklist'])"
   ]
  },
  {
   "cell_type": "markdown",
   "id": "c8b8e7bc",
   "metadata": {},
   "source": [
    "#### Find rr interval using 'peaklist' from 'wd'"
   ]
  },
  {
   "cell_type": "code",
   "execution_count": 12,
   "id": "7685dc20",
   "metadata": {},
   "outputs": [
    {
     "name": "stdout",
     "output_type": "stream",
     "text": [
      "3799\n"
     ]
    }
   ],
   "source": [
    "t = np.arange(0, len(ecg_df))/250\n",
    "\n",
    "# Finding RR interval\n",
    "RR = np.diff(t[wd_band[\"peaklist\"]])\n",
    "print(len(RR))"
   ]
  },
  {
   "cell_type": "code",
   "execution_count": 14,
   "id": "cd317d52",
   "metadata": {},
   "outputs": [
    {
     "name": "stdout",
     "output_type": "stream",
     "text": [
      "[60.72874494 59.52380952 63.55932203 ... 60.24096386 54.94505495\n",
      " 73.89162562] 3799\n"
     ]
    }
   ],
   "source": [
    "HR = 60/RR\n",
    "\n",
    "print(HR, len(HR))"
   ]
  },
  {
   "cell_type": "code",
   "execution_count": 15,
   "id": "c5838bf7",
   "metadata": {},
   "outputs": [
    {
     "name": "stdout",
     "output_type": "stream",
     "text": [
      "max HR is 15000.000000354703  and min HR is 7.763975155279551 . The average HR is 300.4189697516254\n"
     ]
    }
   ],
   "source": [
    "print('max HR is', max(HR), ' and min HR is', min(HR),'. The average HR is', np.average(HR))"
   ]
  },
  {
   "cell_type": "markdown",
   "id": "72852117",
   "metadata": {},
   "source": [
    "#### Finding angle value at the peaks"
   ]
  },
  {
   "cell_type": "code",
   "execution_count": 16,
   "id": "2130253d",
   "metadata": {},
   "outputs": [
    {
     "name": "stdout",
     "output_type": "stream",
     "text": [
      "         Angle\n",
      "0    -0.045759\n",
      "1    -0.045759\n",
      "2    -0.045759\n",
      "3    -0.045759\n",
      "4    -0.045759\n",
      "...        ...\n",
      "3795  0.068638\n",
      "3796  0.068638\n",
      "3797  0.068638\n",
      "3798  0.068638\n",
      "3799  0.068638\n",
      "\n",
      "[3800 rows x 1 columns]\n",
      "<class 'pandas.core.frame.DataFrame'>\n"
     ]
    }
   ],
   "source": [
    "peak_angle = angle_df['Angle'][wd_band['peaklist']].reset_index().drop(columns=['index'])\n",
    "print(peak_angle)\n",
    "print(type(peak_angle))"
   ]
  },
  {
   "cell_type": "code",
   "execution_count": 17,
   "id": "7aa6a9bc",
   "metadata": {},
   "outputs": [
    {
     "data": {
      "text/html": [
       "<div>\n",
       "<style scoped>\n",
       "    .dataframe tbody tr th:only-of-type {\n",
       "        vertical-align: middle;\n",
       "    }\n",
       "\n",
       "    .dataframe tbody tr th {\n",
       "        vertical-align: top;\n",
       "    }\n",
       "\n",
       "    .dataframe thead th {\n",
       "        text-align: right;\n",
       "    }\n",
       "</style>\n",
       "<table border=\"1\" class=\"dataframe\">\n",
       "  <thead>\n",
       "    <tr style=\"text-align: right;\">\n",
       "      <th></th>\n",
       "      <th>beats</th>\n",
       "      <th>RR</th>\n",
       "      <th>angle_peaks</th>\n",
       "    </tr>\n",
       "  </thead>\n",
       "  <tbody>\n",
       "    <tr>\n",
       "      <th>0</th>\n",
       "      <td>1.232</td>\n",
       "      <td>0.988</td>\n",
       "      <td>-0.045759</td>\n",
       "    </tr>\n",
       "    <tr>\n",
       "      <th>1</th>\n",
       "      <td>2.240</td>\n",
       "      <td>1.008</td>\n",
       "      <td>-0.045759</td>\n",
       "    </tr>\n",
       "    <tr>\n",
       "      <th>2</th>\n",
       "      <td>3.184</td>\n",
       "      <td>0.944</td>\n",
       "      <td>-0.045759</td>\n",
       "    </tr>\n",
       "    <tr>\n",
       "      <th>3</th>\n",
       "      <td>4.168</td>\n",
       "      <td>0.984</td>\n",
       "      <td>-0.045759</td>\n",
       "    </tr>\n",
       "    <tr>\n",
       "      <th>4</th>\n",
       "      <td>5.152</td>\n",
       "      <td>0.984</td>\n",
       "      <td>-0.045759</td>\n",
       "    </tr>\n",
       "    <tr>\n",
       "      <th>...</th>\n",
       "      <td>...</td>\n",
       "      <td>...</td>\n",
       "      <td>...</td>\n",
       "    </tr>\n",
       "    <tr>\n",
       "      <th>3794</th>\n",
       "      <td>3247.488</td>\n",
       "      <td>1.020</td>\n",
       "      <td>0.068638</td>\n",
       "    </tr>\n",
       "    <tr>\n",
       "      <th>3795</th>\n",
       "      <td>3248.528</td>\n",
       "      <td>1.040</td>\n",
       "      <td>0.068638</td>\n",
       "    </tr>\n",
       "    <tr>\n",
       "      <th>3796</th>\n",
       "      <td>3249.524</td>\n",
       "      <td>0.996</td>\n",
       "      <td>0.068638</td>\n",
       "    </tr>\n",
       "    <tr>\n",
       "      <th>3797</th>\n",
       "      <td>3250.616</td>\n",
       "      <td>1.092</td>\n",
       "      <td>0.068638</td>\n",
       "    </tr>\n",
       "    <tr>\n",
       "      <th>3798</th>\n",
       "      <td>3251.428</td>\n",
       "      <td>0.812</td>\n",
       "      <td>0.068638</td>\n",
       "    </tr>\n",
       "  </tbody>\n",
       "</table>\n",
       "<p>3799 rows × 3 columns</p>\n",
       "</div>"
      ],
      "text/plain": [
       "         beats     RR  angle_peaks\n",
       "0        1.232  0.988    -0.045759\n",
       "1        2.240  1.008    -0.045759\n",
       "2        3.184  0.944    -0.045759\n",
       "3        4.168  0.984    -0.045759\n",
       "4        5.152  0.984    -0.045759\n",
       "...        ...    ...          ...\n",
       "3794  3247.488  1.020     0.068638\n",
       "3795  3248.528  1.040     0.068638\n",
       "3796  3249.524  0.996     0.068638\n",
       "3797  3250.616  1.092     0.068638\n",
       "3798  3251.428  0.812     0.068638\n",
       "\n",
       "[3799 rows x 3 columns]"
      ]
     },
     "execution_count": 17,
     "metadata": {},
     "output_type": "execute_result"
    }
   ],
   "source": [
    "time_df = t[wd_band[\"peaklist\"]]\n",
    "time_df\n",
    "\n",
    "RR_df = pd.DataFrame(RR, time_df[1:]).reset_index().rename(columns={'index':'beats', 0:'RR'})\n",
    "RR_df['angle_peaks'] = peak_angle\n",
    "#RR_df['timestamp_peaks'] = timestamp_peaks\n",
    "RR_df"
   ]
  },
  {
   "cell_type": "markdown",
   "id": "182b1829",
   "metadata": {},
   "source": [
    "### Resampling each segment of posture change"
   ]
  },
  {
   "cell_type": "code",
   "execution_count": 18,
   "id": "6279f367",
   "metadata": {},
   "outputs": [
    {
     "data": {
      "text/plain": [
       "{'plateau_sizes': array([245, 245, 228, 188], dtype=int64),\n",
       " 'left_edges': array([ 422, 1099, 2921, 3430], dtype=int64),\n",
       " 'right_edges': array([ 666, 1343, 3148, 3617], dtype=int64),\n",
       " 'peak_heights': array([74., 75., 74., 75.]),\n",
       " 'prominences': array([74., 75., 74., 75.]),\n",
       " 'left_bases': array([ 365, 1096, 2865, 3427], dtype=int64),\n",
       " 'right_bases': array([ 724, 1348, 3212, 3622], dtype=int64),\n",
       " 'widths': array([296.        , 247.50551783, 283.        , 190.19447674]),\n",
       " 'width_heights': array([37. , 37.5, 37. , 37.5]),\n",
       " 'left_ips': array([ 396.        , 1097.11290323, 2895.        , 3428.2125    ]),\n",
       " 'right_ips': array([ 692.        , 1344.61842105, 3178.        , 3618.40697674])}"
      ]
     },
     "execution_count": 18,
     "metadata": {},
     "output_type": "execute_result"
    }
   ],
   "source": [
    "peaks,  props= find_peaks(np.round(RR_df['angle_peaks']), width=3, height=[73,76], plateau_size = 3)\n",
    "props"
   ]
  },
  {
   "cell_type": "code",
   "execution_count": 19,
   "id": "618318d3",
   "metadata": {},
   "outputs": [
    {
     "data": {
      "image/png": "[encoded data removed]",
      "text/plain": [
       "<Figure size 720x288 with 1 Axes>"
      ]
     },
     "metadata": {
      "needs_background": "light"
     },
     "output_type": "display_data"
    }
   ],
   "source": [
    "fig, ax = plt.subplots(1,1,figsize = (10,4))\n",
    "\n",
    "ax.plot(RR_df['beats']/60, RR_df['angle_peaks'])\n",
    "for i,j in zip(props['left_bases'], props['right_bases']):\n",
    "    ax.axvline(x=RR_df['beats'][i]/60, color='red', ls='--')\n",
    "    ax.axvline(x=RR_df['beats'][j]/60, color='green', linestyle='--')"
   ]
  },
  {
   "cell_type": "markdown",
   "id": "1e7c9c05",
   "metadata": {},
   "source": [
    "#### Segmenting the data based on inflexion point using the indices given by 'right_bases' and 'left_bases'"
   ]
  },
  {
   "cell_type": "code",
   "execution_count": 20,
   "id": "e70dab19",
   "metadata": {},
   "outputs": [],
   "source": [
    "rest1 = RR_df.iloc[:props['left_bases'][0]+1, :]\n",
    "slant1 = RR_df.iloc[props['left_bases'][0]+1:props['right_bases'][0]+1, :]\n",
    "rest2 = RR_df.iloc[props['right_bases'][0]+1:props['left_bases'][1]+1, :]\n",
    "vpeak1 = RR_df.iloc[props['left_bases'][1]:props['right_bases'][1]+1, :]"
   ]
  },
  {
   "cell_type": "code",
   "execution_count": 21,
   "id": "21005eaa",
   "metadata": {},
   "outputs": [
    {
     "data": {
      "text/plain": [
       "[<matplotlib.lines.Line2D at 0x1b5552c6b50>]"
      ]
     },
     "execution_count": 21,
     "metadata": {},
     "output_type": "execute_result"
    },
    {
     "data": {
      "image/png": "[encoded data removed]",
      "text/plain": [
       "<Figure size 432x288 with 1 Axes>"
      ]
     },
     "metadata": {
      "needs_background": "light"
     },
     "output_type": "display_data"
    }
   ],
   "source": [
    "plt.plot(rest1['angle_peaks'], color='red')\n",
    "plt.plot(slant1['angle_peaks'], color='green')\n",
    "plt.plot(rest2['angle_peaks'], color='orange')\n",
    "plt.plot(vpeak1['angle_peaks'], color='cyan')"
   ]
  },
  {
   "cell_type": "code",
   "execution_count": 22,
   "id": "9203c7da",
   "metadata": {},
   "outputs": [],
   "source": [
    "# finding the timepoints after dividing each segment in 1/250 step size\n",
    "tstep = 1/250\n",
    "dt_r1 = np.arange(rest1['beats'].iloc[0], rest1['beats'].iloc[-1], tstep)\n",
    "dt_s1 = np.arange(slant1['beats'].iloc[0], slant1['beats'].iloc[-1]-tstep, tstep)\n",
    "dt_r2 = np.arange(rest2['beats'].iloc[0], rest2['beats'].iloc[-1]-tstep, tstep)\n",
    "dt_vp1 = np.arange(vpeak1['beats'].iloc[0], vpeak1['beats'].iloc[-1]-tstep, tstep)\n"
   ]
  },
  {
   "cell_type": "code",
   "execution_count": 23,
   "id": "6a9d3673",
   "metadata": {},
   "outputs": [],
   "source": [
    "# Interpolate the data using nearest neighbor interpolation\n",
    "f1 = interp1d(rest1['beats'], rest1['RR'], kind='nearest')\n",
    "f2 = interp1d(slant1['beats'], slant1['RR'], kind='nearest')\n",
    "f3 = interp1d(rest2['beats'], rest2['RR'], kind='nearest')\n",
    "f4 = interp1d(vpeak1['beats'], vpeak1['RR'], kind='nearest')\n",
    "\n",
    "\n",
    "#Calculate the interpolated RR value \n",
    "interpolated_r1 = pd.DataFrame(f1(dt_r1), dt_r1).reset_index()\n",
    "interpolated_s1 = pd.DataFrame(f2(dt_s1), dt_s1 ).reset_index()\n",
    "interpolated_r2 = pd.DataFrame(f3(dt_r2), dt_r2).reset_index()\n",
    "interpolated_vp1 = pd.DataFrame(f4(dt_vp1), dt_vp1).reset_index()"
   ]
  },
  {
   "cell_type": "markdown",
   "id": "f6cc394b",
   "metadata": {},
   "source": [
    "#### Combine the segments - rest1, slant1, rest2, vpeak1"
   ]
  },
  {
   "cell_type": "code",
   "execution_count": 24,
   "id": "03f97a9a",
   "metadata": {},
   "outputs": [
    {
     "data": {
      "text/html": [
       "<div>\n",
       "<style scoped>\n",
       "    .dataframe tbody tr th:only-of-type {\n",
       "        vertical-align: middle;\n",
       "    }\n",
       "\n",
       "    .dataframe tbody tr th {\n",
       "        vertical-align: top;\n",
       "    }\n",
       "\n",
       "    .dataframe thead th {\n",
       "        text-align: right;\n",
       "    }\n",
       "</style>\n",
       "<table border=\"1\" class=\"dataframe\">\n",
       "  <thead>\n",
       "    <tr style=\"text-align: right;\">\n",
       "      <th></th>\n",
       "      <th>index</th>\n",
       "      <th>int_beats</th>\n",
       "      <th>int_RR</th>\n",
       "    </tr>\n",
       "  </thead>\n",
       "  <tbody>\n",
       "    <tr>\n",
       "      <th>0</th>\n",
       "      <td>0</td>\n",
       "      <td>1.232</td>\n",
       "      <td>0.988</td>\n",
       "    </tr>\n",
       "    <tr>\n",
       "      <th>1</th>\n",
       "      <td>1</td>\n",
       "      <td>1.236</td>\n",
       "      <td>0.988</td>\n",
       "    </tr>\n",
       "    <tr>\n",
       "      <th>2</th>\n",
       "      <td>2</td>\n",
       "      <td>1.240</td>\n",
       "      <td>0.988</td>\n",
       "    </tr>\n",
       "    <tr>\n",
       "      <th>3</th>\n",
       "      <td>3</td>\n",
       "      <td>1.244</td>\n",
       "      <td>0.988</td>\n",
       "    </tr>\n",
       "    <tr>\n",
       "      <th>4</th>\n",
       "      <td>4</td>\n",
       "      <td>1.248</td>\n",
       "      <td>0.988</td>\n",
       "    </tr>\n",
       "    <tr>\n",
       "      <th>...</th>\n",
       "      <td>...</td>\n",
       "      <td>...</td>\n",
       "      <td>...</td>\n",
       "    </tr>\n",
       "    <tr>\n",
       "      <th>300809</th>\n",
       "      <td>51129</td>\n",
       "      <td>1206.388</td>\n",
       "      <td>1.520</td>\n",
       "    </tr>\n",
       "    <tr>\n",
       "      <th>300810</th>\n",
       "      <td>51130</td>\n",
       "      <td>1206.392</td>\n",
       "      <td>1.520</td>\n",
       "    </tr>\n",
       "    <tr>\n",
       "      <th>300811</th>\n",
       "      <td>51131</td>\n",
       "      <td>1206.396</td>\n",
       "      <td>1.520</td>\n",
       "    </tr>\n",
       "    <tr>\n",
       "      <th>300812</th>\n",
       "      <td>51132</td>\n",
       "      <td>1206.400</td>\n",
       "      <td>1.520</td>\n",
       "    </tr>\n",
       "    <tr>\n",
       "      <th>300813</th>\n",
       "      <td>51133</td>\n",
       "      <td>1206.404</td>\n",
       "      <td>1.520</td>\n",
       "    </tr>\n",
       "  </tbody>\n",
       "</table>\n",
       "<p>300814 rows × 3 columns</p>\n",
       "</div>"
      ],
      "text/plain": [
       "        index  int_beats  int_RR\n",
       "0           0      1.232   0.988\n",
       "1           1      1.236   0.988\n",
       "2           2      1.240   0.988\n",
       "3           3      1.244   0.988\n",
       "4           4      1.248   0.988\n",
       "...       ...        ...     ...\n",
       "300809  51129   1206.388   1.520\n",
       "300810  51130   1206.392   1.520\n",
       "300811  51131   1206.396   1.520\n",
       "300812  51132   1206.400   1.520\n",
       "300813  51133   1206.404   1.520\n",
       "\n",
       "[300814 rows x 3 columns]"
      ]
     },
     "execution_count": 24,
     "metadata": {},
     "output_type": "execute_result"
    }
   ],
   "source": [
    "frames = [interpolated_r1, interpolated_s1, interpolated_r2, interpolated_vp1]\n",
    "RR_df_new = pd.concat(frames).rename(columns={'index':'int_beats', 0:'int_RR'}).reset_index()\n",
    "RR_df_new"
   ]
  },
  {
   "cell_type": "markdown",
   "id": "679abcd9",
   "metadata": {},
   "source": [
    "#### Plot actual versus interpolated data"
   ]
  },
  {
   "cell_type": "code",
   "execution_count": 26,
   "id": "cd0ecd66",
   "metadata": {},
   "outputs": [
    {
     "data": {
      "image/png": "[encoded data removed]",
      "text/plain": [
       "<Figure size 1080x648 with 2 Axes>"
      ]
     },
     "metadata": {
      "needs_background": "light"
     },
     "output_type": "display_data"
    }
   ],
   "source": [
    "fig, ax = plt.subplots(2,1, figsize=(15,9))\n",
    "ax[0].plot(RR_df['beats'][:props['right_bases'][1]], RR_df['angle_peaks'][:props['right_bases'][1]])\n",
    "ax[1].plot(RR_df_new['int_beats'], RR_df_new['int_RR'], color='red', label='interpolated')\n",
    "ax[1].plot(RR_df['beats'][:1350], RR_df['RR'][:1350], color='green', label='actual')\n",
    "ax[1].legend()\n",
    "fig.suptitle('Actual and interpolated (dt= 1/250) RR intervals using nearest neighborhood interpolation', fontsize=15)\n",
    "ax[1].set_xlabel('time(min)')\n",
    "fig.tight_layout()"
   ]
  },
  {
   "cell_type": "markdown",
   "id": "0dd43a08",
   "metadata": {},
   "source": [
    "### Calculating Laguerre polynomial of order j with time-lag (RR_intervals) n, 0<=n<=90,  0<=j<=8"
   ]
  },
  {
   "cell_type": "code",
   "execution_count": 27,
   "id": "45bbe4a1",
   "metadata": {},
   "outputs": [],
   "source": [
    "phi_mat = np.array([[phi_j(n,j, alpha)  for j in range (J)] for n in range(1, W_n)])"
   ]
  },
  {
   "cell_type": "markdown",
   "id": "23849ba9",
   "metadata": {},
   "source": [
    "### Calculating Laguerre filter output using laguerre polynomials and RR interval at time t=2 in the given window (w_n)"
   ]
  },
  {
   "cell_type": "code",
   "execution_count": 28,
   "id": "fc8e5829",
   "metadata": {},
   "outputs": [
    {
     "data": {
      "text/plain": [
       "array([ 0.57193881, -1.08349644, -0.51793224,  0.00637461,  0.22240091,\n",
       "        0.2482321 ,  0.20016793,  0.13950634,  0.08926919])"
      ]
     },
     "execution_count": 28,
     "metadata": {},
     "output_type": "execute_result"
    }
   ],
   "source": [
    "l_j(J,2, RR_df_new, W_n, alpha)"
   ]
  },
  {
   "cell_type": "markdown",
   "id": "95f2af6d",
   "metadata": {},
   "source": [
    "### Laguerre filter output at each time point"
   ]
  },
  {
   "cell_type": "code",
   "execution_count": 29,
   "id": "d7496475",
   "metadata": {},
   "outputs": [],
   "source": [
    "lagl_j = lagl_j(J, RR_df_new, W_n, alpha)"
   ]
  },
  {
   "cell_type": "markdown",
   "id": "3b18ae4b",
   "metadata": {},
   "source": [
    "#### Convert the laguerre filter output matrix into dataframe"
   ]
  },
  {
   "cell_type": "code",
   "execution_count": 30,
   "id": "97e106fb",
   "metadata": {
    "scrolled": true
   },
   "outputs": [],
   "source": [
    "G = [f'l{j}'  for j in range(J)]\n",
    "lag_df = pd.DataFrame(lagl_j, columns=G)\n",
    "lag_df['RR'] = RR_df_new['int_RR']\n"
   ]
  },
  {
   "cell_type": "code",
   "execution_count": 31,
   "id": "84dc0aa0",
   "metadata": {},
   "outputs": [
    {
     "data": {
      "text/plain": [
       "(300814, 10)"
      ]
     },
     "execution_count": 31,
     "metadata": {},
     "output_type": "execute_result"
    }
   ],
   "source": [
    "lag_df.shape"
   ]
  },
  {
   "cell_type": "code",
   "execution_count": 32,
   "id": "fabd39b4",
   "metadata": {},
   "outputs": [
    {
     "data": {
      "text/html": [
       "<div>\n",
       "<style scoped>\n",
       "    .dataframe tbody tr th:only-of-type {\n",
       "        vertical-align: middle;\n",
       "    }\n",
       "\n",
       "    .dataframe tbody tr th {\n",
       "        vertical-align: top;\n",
       "    }\n",
       "\n",
       "    .dataframe thead th {\n",
       "        text-align: right;\n",
       "    }\n",
       "</style>\n",
       "<table border=\"1\" class=\"dataframe\">\n",
       "  <thead>\n",
       "    <tr style=\"text-align: right;\">\n",
       "      <th></th>\n",
       "      <th>l0</th>\n",
       "      <th>l1</th>\n",
       "      <th>l2</th>\n",
       "      <th>l3</th>\n",
       "      <th>l4</th>\n",
       "      <th>l5</th>\n",
       "      <th>l6</th>\n",
       "      <th>l7</th>\n",
       "      <th>l8</th>\n",
       "      <th>RR</th>\n",
       "    </tr>\n",
       "  </thead>\n",
       "  <tbody>\n",
       "    <tr>\n",
       "      <th>0</th>\n",
       "      <td>0.395200</td>\n",
       "      <td>-0.530216</td>\n",
       "      <td>-0.553280</td>\n",
       "      <td>-0.388825</td>\n",
       "      <td>-0.237120</td>\n",
       "      <td>-0.134321</td>\n",
       "      <td>-0.072717</td>\n",
       "      <td>-0.038176</td>\n",
       "      <td>-0.019602</td>\n",
       "      <td>0.988</td>\n",
       "    </tr>\n",
       "    <tr>\n",
       "      <th>1</th>\n",
       "      <td>0.571939</td>\n",
       "      <td>-1.083496</td>\n",
       "      <td>-0.517932</td>\n",
       "      <td>0.006375</td>\n",
       "      <td>0.222401</td>\n",
       "      <td>0.248232</td>\n",
       "      <td>0.200168</td>\n",
       "      <td>0.139506</td>\n",
       "      <td>0.089269</td>\n",
       "      <td>0.988</td>\n",
       "    </tr>\n",
       "    <tr>\n",
       "      <th>2</th>\n",
       "      <td>0.650979</td>\n",
       "      <td>-1.472322</td>\n",
       "      <td>-0.122732</td>\n",
       "      <td>0.324504</td>\n",
       "      <td>0.174977</td>\n",
       "      <td>-0.061414</td>\n",
       "      <td>-0.198826</td>\n",
       "      <td>-0.232352</td>\n",
       "      <td>-0.206024</td>\n",
       "      <td>0.988</td>\n",
       "    </tr>\n",
       "    <tr>\n",
       "      <th>3</th>\n",
       "      <td>0.686327</td>\n",
       "      <td>-1.709442</td>\n",
       "      <td>0.336789</td>\n",
       "      <td>0.277080</td>\n",
       "      <td>-0.185570</td>\n",
       "      <td>-0.313710</td>\n",
       "      <td>-0.180445</td>\n",
       "      <td>0.008562</td>\n",
       "      <td>0.141515</td>\n",
       "      <td>0.988</td>\n",
       "    </tr>\n",
       "    <tr>\n",
       "      <th>4</th>\n",
       "      <td>0.702135</td>\n",
       "      <td>-1.843763</td>\n",
       "      <td>0.719342</td>\n",
       "      <td>-0.032566</td>\n",
       "      <td>-0.437866</td>\n",
       "      <td>-0.178823</td>\n",
       "      <td>0.140394</td>\n",
       "      <td>0.241405</td>\n",
       "      <td>0.160156</td>\n",
       "      <td>0.988</td>\n",
       "    </tr>\n",
       "  </tbody>\n",
       "</table>\n",
       "</div>"
      ],
      "text/plain": [
       "         l0        l1        l2        l3        l4        l5        l6  \\\n",
       "0  0.395200 -0.530216 -0.553280 -0.388825 -0.237120 -0.134321 -0.072717   \n",
       "1  0.571939 -1.083496 -0.517932  0.006375  0.222401  0.248232  0.200168   \n",
       "2  0.650979 -1.472322 -0.122732  0.324504  0.174977 -0.061414 -0.198826   \n",
       "3  0.686327 -1.709442  0.336789  0.277080 -0.185570 -0.313710 -0.180445   \n",
       "4  0.702135 -1.843763  0.719342 -0.032566 -0.437866 -0.178823  0.140394   \n",
       "\n",
       "         l7        l8     RR  \n",
       "0 -0.038176 -0.019602  0.988  \n",
       "1  0.139506  0.089269  0.988  \n",
       "2 -0.232352 -0.206024  0.988  \n",
       "3  0.008562  0.141515  0.988  \n",
       "4  0.241405  0.160156  0.988  "
      ]
     },
     "execution_count": 32,
     "metadata": {},
     "output_type": "execute_result"
    }
   ],
   "source": [
    "lag_df.head()"
   ]
  },
  {
   "cell_type": "markdown",
   "id": "a8c6f96b",
   "metadata": {},
   "source": [
    "#### Add a column of constant "
   ]
  },
  {
   "cell_type": "code",
   "execution_count": 33,
   "id": "e2ef28fd",
   "metadata": {},
   "outputs": [],
   "source": [
    "lag_df.insert(0,'const', 1 )\n",
    "#lag_df"
   ]
  },
  {
   "cell_type": "code",
   "execution_count": 34,
   "id": "a424ffb1",
   "metadata": {},
   "outputs": [
    {
     "data": {
      "text/plain": [
       "const    1.000000\n",
       "l0       0.571939\n",
       "l1      -1.083496\n",
       "l2      -0.517932\n",
       "l3       0.006375\n",
       "l4       0.222401\n",
       "l5       0.248232\n",
       "l6       0.200168\n",
       "l7       0.139506\n",
       "l8       0.089269\n",
       "Name: 1, dtype: float64"
      ]
     },
     "execution_count": 34,
     "metadata": {},
     "output_type": "execute_result"
    }
   ],
   "source": [
    "lag_df.iloc[1,:-1]"
   ]
  },
  {
   "cell_type": "markdown",
   "id": "85206bf2",
   "metadata": {},
   "source": [
    "## Recursive Least Square Method implementation"
   ]
  },
  {
   "cell_type": "code",
   "execution_count": 35,
   "id": "78d4a9e3",
   "metadata": {},
   "outputs": [],
   "source": [
    "# Initialization\n",
    "theta = np.zeros((J+1,1))\n",
    "phi = np.empty((1,J+1))\n",
    "P = np.eye((J+1))*100"
   ]
  },
  {
   "cell_type": "code",
   "execution_count": 36,
   "id": "b19e5418",
   "metadata": {},
   "outputs": [
    {
     "data": {
      "text/plain": [
       "(300814, 10)"
      ]
     },
     "execution_count": 36,
     "metadata": {},
     "output_type": "execute_result"
    }
   ],
   "source": [
    "x = np.array([lag_df.iloc[i,:-1] for i in range(len(lag_df))])\n",
    "x.shape"
   ]
  },
  {
   "cell_type": "code",
   "execution_count": 37,
   "id": "25b12cc8",
   "metadata": {},
   "outputs": [
    {
     "data": {
      "text/plain": [
       "array([ 1.        ,  0.3952    , -0.53021644, -0.55328   , -0.38882539,\n",
       "       -0.23712   , -0.1343215 , -0.0727168 , -0.03817558, -0.01960192])"
      ]
     },
     "execution_count": 37,
     "metadata": {},
     "output_type": "execute_result"
    }
   ],
   "source": [
    "x[0]"
   ]
  },
  {
   "cell_type": "code",
   "execution_count": 38,
   "id": "2296095b",
   "metadata": {},
   "outputs": [
    {
     "data": {
      "text/plain": [
       "(300814,)"
      ]
     },
     "execution_count": 38,
     "metadata": {},
     "output_type": "execute_result"
    }
   ],
   "source": [
    "y = lag_df['RR']\n",
    "y.shape"
   ]
  },
  {
   "cell_type": "markdown",
   "id": "0d9f8b9f",
   "metadata": {},
   "source": [
    "### Calculate the indices for widow size 90 and forgetting factor .98"
   ]
  },
  {
   "cell_type": "code",
   "execution_count": 39,
   "id": "56f0a653",
   "metadata": {},
   "outputs": [],
   "source": [
    "# Implementing RLS algorithm\n",
    "class RecursiveLeastSquares:\n",
    "    def __init__(self, num_parameters, forgetting_factor):\n",
    "        self.num_parameters = num_parameters\n",
    "        self.forgetting_factor = forgetting_factor\n",
    "        self.theta = np.zeros((num_parameters,1))\n",
    "        self.P = np.eye(num_parameters)  # Initial covariance matrix\n",
    "\n",
    "    def update_params(self, x, y):\n",
    "        x = np.reshape(x, (self.num_parameters, 1))  # Reshape input vector\n",
    "        y_hat = np.dot(np.transpose(self.theta), x)  # Predicted output\n",
    "\n",
    "\n",
    "        # Calculate the gain matrix\n",
    "        k = np.dot(self.P, x) / (self.forgetting_factor + np.dot(np.dot(np.transpose(x), self.P), x))\n",
    "\n",
    "        # Update the estimated parameter \n",
    "        self.theta = self.theta + np.dot(k, (y - y_hat))\n",
    "\n",
    "        # Update the covariance matrix\n",
    "        self.P = (1 / self.forgetting_factor) * (self.P - np.dot(np.dot(k, np.transpose(x)), self.P))\n",
    "\n",
    "    def get_parameters(self):\n",
    "        return self.theta"
   ]
  },
  {
   "cell_type": "code",
   "execution_count": 40,
   "id": "802a567a",
   "metadata": {},
   "outputs": [],
   "source": [
    "# Create an instance of the RLS estimator\n",
    "rls_estimator = RecursiveLeastSquares(num_parameters, forgetting_factor)\n",
    "params_wn = []\n",
    "\n",
    "# Perform recursive parameter estimation\n",
    "for i in range(W_n, len(lag_df)):\n",
    "#     rls_estimator = RecursiveLeastSquares(num_parameters, forgetting_factor)\n",
    "    x_w_n = np.array(x[i-W_n:i])\n",
    "    y_w_n = np.array(y[i-W_n:i])\n",
    "    [rls_estimator.update_params(x_w_n[j], y_w_n[j]) for j in range(W_n)]\n",
    "    params_wn.append(rls_estimator.get_parameters())\n",
    "    #print(rls_estimator.get_parameters()) #Get the estimated parameters"
   ]
  },
  {
   "cell_type": "code",
   "execution_count": 41,
   "id": "f52a4424",
   "metadata": {},
   "outputs": [
    {
     "data": {
      "text/plain": [
       "array([[ 0.38299889,  0.18268977, -0.31259563, ..., -0.00698451,\n",
       "        -0.00304987, -0.00089675],\n",
       "       [ 0.39638477,  0.1913674 , -0.32194927, ...,  0.01332569,\n",
       "         0.00928357,  0.00327922],\n",
       "       [ 0.39672462,  0.19137315, -0.32162442, ...,  0.01002965,\n",
       "         0.00659719,  0.00219587],\n",
       "       ...,\n",
       "       [        nan,         nan,         nan, ...,         nan,\n",
       "                nan,         nan],\n",
       "       [        nan,         nan,         nan, ...,         nan,\n",
       "                nan,         nan],\n",
       "       [        nan,         nan,         nan, ...,         nan,\n",
       "                nan,         nan]])"
      ]
     },
     "execution_count": 41,
     "metadata": {},
     "output_type": "execute_result"
    }
   ],
   "source": [
    "#reduce the dimension of list elements\n",
    "params_wn=np.squeeze(params_wn)\n",
    "params_wn"
   ]
  },
  {
   "cell_type": "code",
   "execution_count": 57,
   "id": "9a8f9eaa",
   "metadata": {},
   "outputs": [
    {
     "name": "stdout",
     "output_type": "stream",
     "text": [
      "300724\n"
     ]
    },
    {
     "data": {
      "text/plain": [
       "array([[False, False, False, ..., False, False, False],\n",
       "       [False, False, False, ..., False, False, False],\n",
       "       [False, False, False, ..., False, False, False],\n",
       "       ...,\n",
       "       [ True,  True,  True, ...,  True,  True,  True],\n",
       "       [ True,  True,  True, ...,  True,  True,  True],\n",
       "       [ True,  True,  True, ...,  True,  True,  True]])"
      ]
     },
     "execution_count": 57,
     "metadata": {},
     "output_type": "execute_result"
    }
   ],
   "source": [
    "print(len(params_wn))\n",
    "np.isnan(params_wn)"
   ]
  },
  {
   "cell_type": "markdown",
   "id": "706520b2",
   "metadata": {},
   "source": [
    "#### Calculate the indices"
   ]
  },
  {
   "cell_type": "code",
   "execution_count": 43,
   "id": "ccb82892",
   "metadata": {},
   "outputs": [],
   "source": [
    "SAI = coeff_S[0] + np.sum(coeff_S[1:]*params_wn[:,1:3], axis=1)\n",
    "PAI = coeff_P[0] + np.sum(coeff_P[1:7]*params_wn[:,4:], axis=1)"
   ]
  },
  {
   "cell_type": "code",
   "execution_count": 44,
   "id": "44a7ad84",
   "metadata": {},
   "outputs": [
    {
     "data": {
      "text/plain": [
       "300724"
      ]
     },
     "execution_count": 44,
     "metadata": {},
     "output_type": "execute_result"
    }
   ],
   "source": [
    "len(SAI)"
   ]
  },
  {
   "cell_type": "code",
   "execution_count": 58,
   "id": "0fef9aae",
   "metadata": {},
   "outputs": [],
   "source": [
    "# fig, ax = plt.subplots(1,1,figsize = (15,5))\n",
    "# import seaborn as sns\n",
    "\n",
    "# plt.plot(RR_df_new['int_beats'][W_n:]/60, normalize(SAI), color='red', label='SAI')\n",
    "# # plt.plot(RR_clean['beats'][90:]/60, normalize(PAI), color='green', label='PAI')\n",
    "# # plt.plot(RR_clean['beats'][90:]/60, normalize(RR_clean['angle_peaks'][90:]), label='angle')\n",
    "\n",
    "# # ax.legend(['SAI', 'PAI', 'Angle'])\n"
   ]
  },
  {
   "cell_type": "code",
   "execution_count": 47,
   "id": "15100977",
   "metadata": {},
   "outputs": [],
   "source": [
    "# # Instantiate a second axes that shares the same x-axis\n",
    "# fig, ax1 = plt.subplots(1,1, figsize=(15, 6))\n",
    "# ax2 = ax1.twinx()\n",
    "\n",
    "# ax1.plot(RR_df_new['beats'][W_n:]/60, normalize(SAI), color='red', label='SAI')\n",
    "# ax1.plot(RR_df_new['beats'][W_n:]/60, normalize(PAI), color='green', label='PAI')\n",
    "# ax2.plot(RR_df['beats'][W_n:]/60, RR_df['angle_peaks'][W_n:], label='angle')\n",
    "# ax1.set_xlabel(\"time (in min)\")\n",
    "# ax2.set_ylabel(\"Angle\")\n",
    "# ax1.set_ylabel(\"Normalized values of SAI/PAI\")\n",
    "# ax1.legend(['SAI', 'PAI'], loc='upper left')\n",
    "# ax2.legend(['Angle'])"
   ]
  },
  {
   "cell_type": "code",
   "execution_count": null,
   "id": "0fb46cb5",
   "metadata": {},
   "outputs": [],
   "source": []
  },
  {
   "cell_type": "code",
   "execution_count": null,
   "id": "9d4923fe",
   "metadata": {},
   "outputs": [],
   "source": []
  }
 ],
 "metadata": {
  "kernelspec": {
   "display_name": "Python 3 (ipykernel)",
   "language": "python",
   "name": "python3"
  },
  "language_info": {
   "codemirror_mode": {
    "name": "ipython",
    "version": 3
   },
   "file_extension": ".py",
   "mimetype": "text/x-python",
   "name": "python",
   "nbconvert_exporter": "python",
   "pygments_lexer": "ipython3",
   "version": "3.9.7"
  }
 },
 "nbformat": 4,
 "nbformat_minor": 5
}
