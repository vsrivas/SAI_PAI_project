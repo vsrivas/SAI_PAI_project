{
 "cells": [
  {
   "cell_type": "markdown",
   "id": "a14fb5bd",
   "metadata": {},
   "source": [
    "### Experiment Protocols"
   ]
  },
  {
   "cell_type": "markdown",
   "id": "02efa86e",
   "metadata": {},
   "source": [
    "Subjects rested on a tilt table with foot support and subsequently underwent a series of six changes in posture: \n",
    "- Two stand-ups, (= 6 min)\n",
    "- Two rapid HUTs (75◦ HUT over 2 secs), and (= 6 min)\n",
    "- Two slow HUTs (75◦ HUT over 50 secs) (= 6 min)\n",
    "- Each lasting for three minutes and separated by five minutes in the resting supine position.\n",
    "- The sequence of six interventions was randomized for each subject.\n",
    "- At the conclusion of the final intervention, the subject was returned to the horizontal position for a final five minutes of   supine baseline recording.\n",
    "\n",
    "For six postural changes:\n",
    "- Rest -> PC -> Rest -> PC -> Rest -> PC -> Rest -> PC -> Rest -> PC -> Rest -> PC -> Rest ( atleast 35 + 18 = 53 min of data)\n",
    "\n",
    "\n",
    "- The RR interval data is cleaned by removing outliers\n",
    "- No interpolation"
   ]
  },
  {
   "cell_type": "code",
   "execution_count": 1,
   "id": "fcfc3554",
   "metadata": {},
   "outputs": [],
   "source": [
    "# import libraries\n",
    "\n",
    "%matplotlib inline\n",
    "import math\n",
    "import numpy as np\n",
    "import pandas as pd\n",
    "\n",
    "from Laguerre import phi_j, l_j, lagl_j # call laguerre related functions from .py file\n",
    "\n",
    "import scipy.stats as stats\n",
    "import matplotlib.pyplot as plt\n",
    "from scipy.signal import find_peaks\n",
    "\n",
    "# ECG processing libraries\n",
    "import scipy.signal \n",
    "import peakutils\n",
    "import heartpy as hp\n",
    "import wfdb\n",
    "from wfdb import processing\n"
   ]
  },
  {
   "cell_type": "markdown",
   "id": "3f077ae6",
   "metadata": {},
   "source": [
    "#### Value of constants"
   ]
  },
  {
   "cell_type": "code",
   "execution_count": 2,
   "id": "69c558f5",
   "metadata": {},
   "outputs": [],
   "source": [
    "alpha = .2\n",
    "J = 9\n",
    "N1 = 2\n",
    "N2 = 7\n",
    "W_n = 90\n",
    "\n",
    "num_parameters = 10\n",
    "forgetting_factor = .98\n",
    "\n",
    "# Values taken from related paper\n",
    "coeff_S = [39.2343, 10.1963, -5.9242] \n",
    "coeff_P = [28.4875, -17.3627, 5.8798, 12.0628, 5.6408, -7.0664, -5.6779, -3.9474]\n"
   ]
  },
  {
   "cell_type": "markdown",
   "id": "f136cb7d",
   "metadata": {},
   "source": [
    "#### Define functions"
   ]
  },
  {
   "cell_type": "code",
   "execution_count": 3,
   "id": "20dfa8b2",
   "metadata": {},
   "outputs": [],
   "source": [
    "# define function to identify outliers using Interquartile menthod\n",
    "def find_outliers(df, thresh):\n",
    "    q1 = np.quantile(df, 0.25)\n",
    "    q3 = np.quantile(df, 0.75)\n",
    "    IQR=q3-q1\n",
    "    outliers = df[(df < (q1 - thresh*IQR)) | (df > (q3 + thresh*IQR))]\n",
    "    return outliers"
   ]
  },
  {
   "cell_type": "code",
   "execution_count": 4,
   "id": "000ed848",
   "metadata": {},
   "outputs": [],
   "source": [
    "def normalize(x):\n",
    "    x = x - np.mean(x)\n",
    "    return x/np.std(x)"
   ]
  },
  {
   "cell_type": "markdown",
   "id": "439fe226",
   "metadata": {},
   "source": [
    "#### Read one ECG recording in wfdb format"
   ]
  },
  {
   "cell_type": "code",
   "execution_count": 5,
   "id": "66a14bbc",
   "metadata": {},
   "outputs": [
    {
     "data": {
      "text/plain": [
       "{'record_name': '12726',\n",
       " 'n_sig': 3,\n",
       " 'fs': 250,\n",
       " 'counter_freq': 24000.0,\n",
       " 'base_counter': None,\n",
       " 'sig_len': 825000,\n",
       " 'base_time': datetime.time(15, 8, 24),\n",
       " 'base_date': None,\n",
       " 'comments': ['<age>: 28  <sex>: M  <Height>: 170  <Weight>: 64',\n",
       "  'Produced by xform from record 12726_orig, beginning at 0:0'],\n",
       " 'sig_name': ['ABP', 'ECG', 'Angle'],\n",
       " 'p_signal': array([[ 6.24804749e+01, -1.98291120e+00, -4.57587371e-02],\n",
       "        [ 6.21055920e+01, -1.98962466e+00, -4.57587371e-02],\n",
       "        [ 6.14807873e+01, -1.97070491e+00, -4.57587371e-02],\n",
       "        ...,\n",
       "        [ 8.12246173e-01,  6.10314312e-04, -1.60155580e-01],\n",
       "        [ 8.12246173e-01,  6.10314312e-04, -1.60155580e-01],\n",
       "        [ 8.12246173e-01,  6.10314312e-04, -1.60155580e-01]]),\n",
       " 'd_signal': None,\n",
       " 'e_p_signal': None,\n",
       " 'e_d_signal': None,\n",
       " 'file_name': ['12726.dat', '12726.dat', '12726.dat'],\n",
       " 'fmt': ['16', '16', '16'],\n",
       " 'samps_per_frame': [1, 1, 1],\n",
       " 'skew': [None, None, None],\n",
       " 'byte_offset': [None, None, None],\n",
       " 'adc_gain': [64.02, 6554.0, 174.83],\n",
       " 'baseline': [4, 0, 11204],\n",
       " 'units': ['mmHg', 'mV', 'degrees'],\n",
       " 'adc_res': [16, 16, 16],\n",
       " 'adc_zero': [0, 0, 0],\n",
       " 'init_value': [4004, -12996, 11196],\n",
       " 'checksum': [-26056, -24904, 11564],\n",
       " 'block_size': [0, 0, 0]}"
      ]
     },
     "metadata": {},
     "output_type": "display_data"
    }
   ],
   "source": [
    "# Plot the signals, and show the data.\n",
    "record = wfdb.rdrecord('changes-in-postureData/12726') \n",
    "#wfdb.plot_wfdb(record=record, title='Record 12726 from PhysioNet Postural Data', figsize=(12,10)) \n",
    "display(record.__dict__)"
   ]
  },
  {
   "cell_type": "code",
   "execution_count": 6,
   "id": "2d91820a",
   "metadata": {},
   "outputs": [
    {
     "data": {
      "text/html": [
       "<div>\n",
       "<style scoped>\n",
       "    .dataframe tbody tr th:only-of-type {\n",
       "        vertical-align: middle;\n",
       "    }\n",
       "\n",
       "    .dataframe tbody tr th {\n",
       "        vertical-align: top;\n",
       "    }\n",
       "\n",
       "    .dataframe thead th {\n",
       "        text-align: right;\n",
       "    }\n",
       "</style>\n",
       "<table border=\"1\" class=\"dataframe\">\n",
       "  <thead>\n",
       "    <tr style=\"text-align: right;\">\n",
       "      <th></th>\n",
       "      <th>ABP</th>\n",
       "      <th>ECG</th>\n",
       "      <th>Angle</th>\n",
       "    </tr>\n",
       "  </thead>\n",
       "  <tbody>\n",
       "    <tr>\n",
       "      <th>0 days 00:00:00</th>\n",
       "      <td>62.480475</td>\n",
       "      <td>-1.982911</td>\n",
       "      <td>-0.045759</td>\n",
       "    </tr>\n",
       "    <tr>\n",
       "      <th>0 days 00:00:00.004000</th>\n",
       "      <td>62.105592</td>\n",
       "      <td>-1.989625</td>\n",
       "      <td>-0.045759</td>\n",
       "    </tr>\n",
       "    <tr>\n",
       "      <th>0 days 00:00:00.008000</th>\n",
       "      <td>61.480787</td>\n",
       "      <td>-1.970705</td>\n",
       "      <td>-0.045759</td>\n",
       "    </tr>\n",
       "    <tr>\n",
       "      <th>0 days 00:00:00.012000</th>\n",
       "      <td>61.168385</td>\n",
       "      <td>-1.966433</td>\n",
       "      <td>-0.045759</td>\n",
       "    </tr>\n",
       "    <tr>\n",
       "      <th>0 days 00:00:00.016000</th>\n",
       "      <td>60.855983</td>\n",
       "      <td>-1.979860</td>\n",
       "      <td>-0.045759</td>\n",
       "    </tr>\n",
       "    <tr>\n",
       "      <th>...</th>\n",
       "      <td>...</td>\n",
       "      <td>...</td>\n",
       "      <td>...</td>\n",
       "    </tr>\n",
       "    <tr>\n",
       "      <th>0 days 00:54:59.980000</th>\n",
       "      <td>0.812246</td>\n",
       "      <td>0.000610</td>\n",
       "      <td>-0.160156</td>\n",
       "    </tr>\n",
       "    <tr>\n",
       "      <th>0 days 00:54:59.984000</th>\n",
       "      <td>0.812246</td>\n",
       "      <td>0.000610</td>\n",
       "      <td>-0.160156</td>\n",
       "    </tr>\n",
       "    <tr>\n",
       "      <th>0 days 00:54:59.988000</th>\n",
       "      <td>0.812246</td>\n",
       "      <td>0.000610</td>\n",
       "      <td>-0.160156</td>\n",
       "    </tr>\n",
       "    <tr>\n",
       "      <th>0 days 00:54:59.992000</th>\n",
       "      <td>0.812246</td>\n",
       "      <td>0.000610</td>\n",
       "      <td>-0.160156</td>\n",
       "    </tr>\n",
       "    <tr>\n",
       "      <th>0 days 00:54:59.996000</th>\n",
       "      <td>0.812246</td>\n",
       "      <td>0.000610</td>\n",
       "      <td>-0.160156</td>\n",
       "    </tr>\n",
       "  </tbody>\n",
       "</table>\n",
       "<p>825000 rows × 3 columns</p>\n",
       "</div>"
      ],
      "text/plain": [
       "                              ABP       ECG     Angle\n",
       "0 days 00:00:00         62.480475 -1.982911 -0.045759\n",
       "0 days 00:00:00.004000  62.105592 -1.989625 -0.045759\n",
       "0 days 00:00:00.008000  61.480787 -1.970705 -0.045759\n",
       "0 days 00:00:00.012000  61.168385 -1.966433 -0.045759\n",
       "0 days 00:00:00.016000  60.855983 -1.979860 -0.045759\n",
       "...                           ...       ...       ...\n",
       "0 days 00:54:59.980000   0.812246  0.000610 -0.160156\n",
       "0 days 00:54:59.984000   0.812246  0.000610 -0.160156\n",
       "0 days 00:54:59.988000   0.812246  0.000610 -0.160156\n",
       "0 days 00:54:59.992000   0.812246  0.000610 -0.160156\n",
       "0 days 00:54:59.996000   0.812246  0.000610 -0.160156\n",
       "\n",
       "[825000 rows x 3 columns]"
      ]
     },
     "execution_count": 6,
     "metadata": {},
     "output_type": "execute_result"
    }
   ],
   "source": [
    "#Convert record into dataframe whose index is TimedeltaIndex\n",
    "record_df = record.to_dataframe()\n",
    "record_df"
   ]
  },
  {
   "cell_type": "code",
   "execution_count": 7,
   "id": "468f2ffc",
   "metadata": {},
   "outputs": [],
   "source": [
    "# ECG data is saved in an array\n",
    "# ecg_data = record.p_signal[:,1]\n",
    "ecg_df = pd.DataFrame(record_df.iloc[:,1])\n",
    "angle_df = pd.DataFrame(record_df.iloc[:,2])\n"
   ]
  },
  {
   "cell_type": "markdown",
   "id": "fa3dac2b",
   "metadata": {},
   "source": [
    "#### Working with ECG data"
   ]
  },
  {
   "cell_type": "code",
   "execution_count": 8,
   "id": "27ed0cda",
   "metadata": {},
   "outputs": [
    {
     "data": {
      "text/html": [
       "<div>\n",
       "<style scoped>\n",
       "    .dataframe tbody tr th:only-of-type {\n",
       "        vertical-align: middle;\n",
       "    }\n",
       "\n",
       "    .dataframe tbody tr th {\n",
       "        vertical-align: top;\n",
       "    }\n",
       "\n",
       "    .dataframe thead th {\n",
       "        text-align: right;\n",
       "    }\n",
       "</style>\n",
       "<table border=\"1\" class=\"dataframe\">\n",
       "  <thead>\n",
       "    <tr style=\"text-align: right;\">\n",
       "      <th></th>\n",
       "      <th>ECG</th>\n",
       "    </tr>\n",
       "  </thead>\n",
       "  <tbody>\n",
       "    <tr>\n",
       "      <th>0 days 00:00:00</th>\n",
       "      <td>-1.982911</td>\n",
       "    </tr>\n",
       "    <tr>\n",
       "      <th>0 days 00:00:00.004000</th>\n",
       "      <td>-1.989625</td>\n",
       "    </tr>\n",
       "    <tr>\n",
       "      <th>0 days 00:00:00.008000</th>\n",
       "      <td>-1.970705</td>\n",
       "    </tr>\n",
       "    <tr>\n",
       "      <th>0 days 00:00:00.012000</th>\n",
       "      <td>-1.966433</td>\n",
       "    </tr>\n",
       "    <tr>\n",
       "      <th>0 days 00:00:00.016000</th>\n",
       "      <td>-1.979860</td>\n",
       "    </tr>\n",
       "    <tr>\n",
       "      <th>...</th>\n",
       "      <td>...</td>\n",
       "    </tr>\n",
       "    <tr>\n",
       "      <th>0 days 00:54:59.980000</th>\n",
       "      <td>0.000610</td>\n",
       "    </tr>\n",
       "    <tr>\n",
       "      <th>0 days 00:54:59.984000</th>\n",
       "      <td>0.000610</td>\n",
       "    </tr>\n",
       "    <tr>\n",
       "      <th>0 days 00:54:59.988000</th>\n",
       "      <td>0.000610</td>\n",
       "    </tr>\n",
       "    <tr>\n",
       "      <th>0 days 00:54:59.992000</th>\n",
       "      <td>0.000610</td>\n",
       "    </tr>\n",
       "    <tr>\n",
       "      <th>0 days 00:54:59.996000</th>\n",
       "      <td>0.000610</td>\n",
       "    </tr>\n",
       "  </tbody>\n",
       "</table>\n",
       "<p>825000 rows × 1 columns</p>\n",
       "</div>"
      ],
      "text/plain": [
       "                             ECG\n",
       "0 days 00:00:00        -1.982911\n",
       "0 days 00:00:00.004000 -1.989625\n",
       "0 days 00:00:00.008000 -1.970705\n",
       "0 days 00:00:00.012000 -1.966433\n",
       "0 days 00:00:00.016000 -1.979860\n",
       "...                          ...\n",
       "0 days 00:54:59.980000  0.000610\n",
       "0 days 00:54:59.984000  0.000610\n",
       "0 days 00:54:59.988000  0.000610\n",
       "0 days 00:54:59.992000  0.000610\n",
       "0 days 00:54:59.996000  0.000610\n",
       "\n",
       "[825000 rows x 1 columns]"
      ]
     },
     "execution_count": 8,
     "metadata": {},
     "output_type": "execute_result"
    }
   ],
   "source": [
    "# ecg_data\n",
    "ecg_df"
   ]
  },
  {
   "cell_type": "code",
   "execution_count": 9,
   "id": "9bba3e70",
   "metadata": {},
   "outputs": [
    {
     "data": {
      "text/html": [
       "<div>\n",
       "<style scoped>\n",
       "    .dataframe tbody tr th:only-of-type {\n",
       "        vertical-align: middle;\n",
       "    }\n",
       "\n",
       "    .dataframe tbody tr th {\n",
       "        vertical-align: top;\n",
       "    }\n",
       "\n",
       "    .dataframe thead th {\n",
       "        text-align: right;\n",
       "    }\n",
       "</style>\n",
       "<table border=\"1\" class=\"dataframe\">\n",
       "  <thead>\n",
       "    <tr style=\"text-align: right;\">\n",
       "      <th></th>\n",
       "      <th>Angle</th>\n",
       "    </tr>\n",
       "  </thead>\n",
       "  <tbody>\n",
       "    <tr>\n",
       "      <th>0 days 00:00:00</th>\n",
       "      <td>-0.045759</td>\n",
       "    </tr>\n",
       "    <tr>\n",
       "      <th>0 days 00:00:00.004000</th>\n",
       "      <td>-0.045759</td>\n",
       "    </tr>\n",
       "    <tr>\n",
       "      <th>0 days 00:00:00.008000</th>\n",
       "      <td>-0.045759</td>\n",
       "    </tr>\n",
       "    <tr>\n",
       "      <th>0 days 00:00:00.012000</th>\n",
       "      <td>-0.045759</td>\n",
       "    </tr>\n",
       "    <tr>\n",
       "      <th>0 days 00:00:00.016000</th>\n",
       "      <td>-0.045759</td>\n",
       "    </tr>\n",
       "  </tbody>\n",
       "</table>\n",
       "</div>"
      ],
      "text/plain": [
       "                           Angle\n",
       "0 days 00:00:00        -0.045759\n",
       "0 days 00:00:00.004000 -0.045759\n",
       "0 days 00:00:00.008000 -0.045759\n",
       "0 days 00:00:00.012000 -0.045759\n",
       "0 days 00:00:00.016000 -0.045759"
      ]
     },
     "execution_count": 9,
     "metadata": {},
     "output_type": "execute_result"
    }
   ],
   "source": [
    "angle_df.head()"
   ]
  },
  {
   "cell_type": "code",
   "execution_count": 10,
   "id": "76c51343",
   "metadata": {},
   "outputs": [],
   "source": [
    "# using heartpy.process, wd = working_data dict in which results are stored, measures(m): measures dict in which results are stored\n",
    "wd_band, m_band = hp.process(ecg_df['ECG'], sample_rate = record.fs)\n"
   ]
  },
  {
   "cell_type": "code",
   "execution_count": 11,
   "id": "ce17ed24",
   "metadata": {},
   "outputs": [
    {
     "data": {
      "text/plain": [
       "3800"
      ]
     },
     "execution_count": 11,
     "metadata": {},
     "output_type": "execute_result"
    }
   ],
   "source": [
    "# number of RR peaks\n",
    "len(wd_band['peaklist'])"
   ]
  },
  {
   "cell_type": "markdown",
   "id": "c8b8e7bc",
   "metadata": {},
   "source": [
    "#### Find rr interval using 'peaklist' from 'wd'"
   ]
  },
  {
   "cell_type": "code",
   "execution_count": 12,
   "id": "7685dc20",
   "metadata": {},
   "outputs": [
    {
     "name": "stdout",
     "output_type": "stream",
     "text": [
      "3799\n"
     ]
    }
   ],
   "source": [
    "t = np.arange(0, len(ecg_df))/250\n",
    "\n",
    "# Finding RR interval\n",
    "RR = np.diff(t[wd_band[\"peaklist\"]])\n",
    "print(len(RR))"
   ]
  },
  {
   "cell_type": "code",
   "execution_count": 13,
   "id": "ea7b88ba",
   "metadata": {},
   "outputs": [
    {
     "data": {
      "text/plain": [
       "array([0.988, 1.008, 0.944, ..., 0.996, 1.092, 0.812])"
      ]
     },
     "execution_count": 13,
     "metadata": {},
     "output_type": "execute_result"
    }
   ],
   "source": [
    "RR"
   ]
  },
  {
   "cell_type": "code",
   "execution_count": 14,
   "id": "cd317d52",
   "metadata": {},
   "outputs": [
    {
     "name": "stdout",
     "output_type": "stream",
     "text": [
      "[60.72874494 59.52380952 63.55932203 ... 60.24096386 54.94505495\n",
      " 73.89162562] 3799\n"
     ]
    }
   ],
   "source": [
    "HR = 60/RR\n",
    "\n",
    "print(HR, len(HR))"
   ]
  },
  {
   "cell_type": "code",
   "execution_count": 15,
   "id": "c5838bf7",
   "metadata": {},
   "outputs": [
    {
     "name": "stdout",
     "output_type": "stream",
     "text": [
      "max HR is 15000.000000354703  and min HR is 7.763975155279551\n"
     ]
    }
   ],
   "source": [
    "print('max HR is', max(HR), ' and min HR is', min(HR))"
   ]
  },
  {
   "cell_type": "markdown",
   "id": "72852117",
   "metadata": {},
   "source": [
    "#### Working with angle_data -- Finding angle value at the peaks"
   ]
  },
  {
   "cell_type": "code",
   "execution_count": 16,
   "id": "2130253d",
   "metadata": {},
   "outputs": [
    {
     "name": "stdout",
     "output_type": "stream",
     "text": [
      "         Angle\n",
      "0    -0.045759\n",
      "1    -0.045759\n",
      "2    -0.045759\n",
      "3    -0.045759\n",
      "4    -0.045759\n",
      "...        ...\n",
      "3795  0.068638\n",
      "3796  0.068638\n",
      "3797  0.068638\n",
      "3798  0.068638\n",
      "3799  0.068638\n",
      "\n",
      "[3800 rows x 1 columns]\n",
      "<class 'pandas.core.frame.DataFrame'>\n"
     ]
    }
   ],
   "source": [
    "peak_angle = angle_df['Angle'][wd_band['peaklist']].reset_index().drop(columns=['index'])\n",
    "print(peak_angle)\n",
    "print(type(peak_angle))"
   ]
  },
  {
   "cell_type": "markdown",
   "id": "182b1829",
   "metadata": {},
   "source": [
    "#### Remove outliers from the RR_interval data"
   ]
  },
  {
   "cell_type": "code",
   "execution_count": 17,
   "id": "54fdafc6",
   "metadata": {},
   "outputs": [
    {
     "data": {
      "text/html": [
       "<div>\n",
       "<style scoped>\n",
       "    .dataframe tbody tr th:only-of-type {\n",
       "        vertical-align: middle;\n",
       "    }\n",
       "\n",
       "    .dataframe tbody tr th {\n",
       "        vertical-align: top;\n",
       "    }\n",
       "\n",
       "    .dataframe thead th {\n",
       "        text-align: right;\n",
       "    }\n",
       "</style>\n",
       "<table border=\"1\" class=\"dataframe\">\n",
       "  <thead>\n",
       "    <tr style=\"text-align: right;\">\n",
       "      <th></th>\n",
       "      <th>beats</th>\n",
       "      <th>RR</th>\n",
       "      <th>angle_peaks</th>\n",
       "    </tr>\n",
       "  </thead>\n",
       "  <tbody>\n",
       "    <tr>\n",
       "      <th>0</th>\n",
       "      <td>1.232</td>\n",
       "      <td>0.988</td>\n",
       "      <td>-0.045759</td>\n",
       "    </tr>\n",
       "    <tr>\n",
       "      <th>1</th>\n",
       "      <td>2.240</td>\n",
       "      <td>1.008</td>\n",
       "      <td>-0.045759</td>\n",
       "    </tr>\n",
       "    <tr>\n",
       "      <th>2</th>\n",
       "      <td>3.184</td>\n",
       "      <td>0.944</td>\n",
       "      <td>-0.045759</td>\n",
       "    </tr>\n",
       "    <tr>\n",
       "      <th>3</th>\n",
       "      <td>4.168</td>\n",
       "      <td>0.984</td>\n",
       "      <td>-0.045759</td>\n",
       "    </tr>\n",
       "    <tr>\n",
       "      <th>4</th>\n",
       "      <td>5.152</td>\n",
       "      <td>0.984</td>\n",
       "      <td>-0.045759</td>\n",
       "    </tr>\n",
       "    <tr>\n",
       "      <th>...</th>\n",
       "      <td>...</td>\n",
       "      <td>...</td>\n",
       "      <td>...</td>\n",
       "    </tr>\n",
       "    <tr>\n",
       "      <th>3794</th>\n",
       "      <td>3247.488</td>\n",
       "      <td>1.020</td>\n",
       "      <td>0.068638</td>\n",
       "    </tr>\n",
       "    <tr>\n",
       "      <th>3795</th>\n",
       "      <td>3248.528</td>\n",
       "      <td>1.040</td>\n",
       "      <td>0.068638</td>\n",
       "    </tr>\n",
       "    <tr>\n",
       "      <th>3796</th>\n",
       "      <td>3249.524</td>\n",
       "      <td>0.996</td>\n",
       "      <td>0.068638</td>\n",
       "    </tr>\n",
       "    <tr>\n",
       "      <th>3797</th>\n",
       "      <td>3250.616</td>\n",
       "      <td>1.092</td>\n",
       "      <td>0.068638</td>\n",
       "    </tr>\n",
       "    <tr>\n",
       "      <th>3798</th>\n",
       "      <td>3251.428</td>\n",
       "      <td>0.812</td>\n",
       "      <td>0.068638</td>\n",
       "    </tr>\n",
       "  </tbody>\n",
       "</table>\n",
       "<p>3799 rows × 3 columns</p>\n",
       "</div>"
      ],
      "text/plain": [
       "         beats     RR  angle_peaks\n",
       "0        1.232  0.988    -0.045759\n",
       "1        2.240  1.008    -0.045759\n",
       "2        3.184  0.944    -0.045759\n",
       "3        4.168  0.984    -0.045759\n",
       "4        5.152  0.984    -0.045759\n",
       "...        ...    ...          ...\n",
       "3794  3247.488  1.020     0.068638\n",
       "3795  3248.528  1.040     0.068638\n",
       "3796  3249.524  0.996     0.068638\n",
       "3797  3250.616  1.092     0.068638\n",
       "3798  3251.428  0.812     0.068638\n",
       "\n",
       "[3799 rows x 3 columns]"
      ]
     },
     "execution_count": 17,
     "metadata": {},
     "output_type": "execute_result"
    }
   ],
   "source": [
    "time_df = t[wd_band[\"peaklist\"]] #find time points of R-peaks\n",
    "\n",
    "RR_df = pd.DataFrame(RR, time_df[1:]).reset_index().rename(columns={'index':'beats', 0:'RR'})\n",
    "RR_df['angle_peaks'] = peak_angle\n",
    "#RR_df['timestamp_peaks'] = timestamp_peaks\n",
    "RR_df"
   ]
  },
  {
   "cell_type": "code",
   "execution_count": 18,
   "id": "717d4ecb",
   "metadata": {},
   "outputs": [
    {
     "name": "stdout",
     "output_type": "stream",
     "text": [
      "423     0.008\n",
      "424     1.700\n",
      "668     0.008\n",
      "673     3.908\n",
      "688     0.236\n",
      "        ...  \n",
      "3534    1.516\n",
      "3620    0.008\n",
      "3622    1.500\n",
      "3711    0.008\n",
      "3712    1.656\n",
      "Name: RR, Length: 232, dtype: float64 232\n",
      "....................\n",
      "         beats     RR  angle_peaks\n",
      "0        1.232  0.988    -0.045759\n",
      "1        2.240  1.008    -0.045759\n",
      "2        3.184  0.944    -0.045759\n",
      "3        4.168  0.984    -0.045759\n",
      "4        5.152  0.984    -0.045759\n",
      "...        ...    ...          ...\n",
      "3562  3247.488  1.020     0.068638\n",
      "3563  3248.528  1.040     0.068638\n",
      "3564  3249.524  0.996     0.068638\n",
      "3565  3250.616  1.092     0.068638\n",
      "3566  3251.428  0.812     0.068638\n",
      "\n",
      "[3567 rows x 3 columns]\n"
     ]
    }
   ],
   "source": [
    "# Remove outliers from RR_band\n",
    "outliers = find_outliers(RR_df['RR'], 1.5)\n",
    "print(outliers, len (outliers))\n",
    "print('....................')\n",
    "RR_clean = RR_df.drop(outliers.index).reset_index().drop(columns='index') \n",
    "print(RR_clean)\n",
    "\n"
   ]
  },
  {
   "cell_type": "markdown",
   "id": "0dd43a08",
   "metadata": {},
   "source": [
    "### Calculating Laguerre polynomial of order j with time-lag (RR_intervals) n, 0<=n<90,  0<=j<="
   ]
  },
  {
   "cell_type": "code",
   "execution_count": 19,
   "id": "45bbe4a1",
   "metadata": {},
   "outputs": [],
   "source": [
    "phi_mat = np.array([[phi_j(n,j, alpha)  for j in range (J)] for n in range(1, W_n)])"
   ]
  },
  {
   "cell_type": "markdown",
   "id": "23849ba9",
   "metadata": {},
   "source": [
    "### Calculating Laguerre filter output using laguerre polynomials and RR interval at time t=2 in the given window (w_n)"
   ]
  },
  {
   "cell_type": "code",
   "execution_count": 20,
   "id": "fc8e5829",
   "metadata": {},
   "outputs": [
    {
     "data": {
      "text/plain": [
       "array([ 0.57993881, -1.09422957, -0.52913224, -0.00149635,  0.21760091,\n",
       "        0.24551304,  0.19869593,  0.13873355,  0.08887239])"
      ]
     },
     "execution_count": 20,
     "metadata": {},
     "output_type": "execute_result"
    }
   ],
   "source": [
    "l_j(J,2, RR_clean, W_n, alpha)"
   ]
  },
  {
   "cell_type": "markdown",
   "id": "95f2af6d",
   "metadata": {},
   "source": [
    "### Laguerre filter output at all time points"
   ]
  },
  {
   "cell_type": "code",
   "execution_count": 21,
   "id": "d7496475",
   "metadata": {},
   "outputs": [],
   "source": [
    "lagj_t = lagl_j(J, RR_clean, W_n, alpha)"
   ]
  },
  {
   "cell_type": "markdown",
   "id": "3b18ae4b",
   "metadata": {},
   "source": [
    "#### Convert the laguerre filter output matrix into dataframe"
   ]
  },
  {
   "cell_type": "code",
   "execution_count": 22,
   "id": "97e106fb",
   "metadata": {
    "scrolled": true
   },
   "outputs": [],
   "source": [
    "G = [f'l{j}'  for j in range(J)]\n",
    "lag_df = pd.DataFrame(lagj_t, columns=G)\n",
    "lag_df['RR'] = RR_clean['RR']\n"
   ]
  },
  {
   "cell_type": "code",
   "execution_count": 23,
   "id": "84dc0aa0",
   "metadata": {},
   "outputs": [
    {
     "data": {
      "text/plain": [
       "(3567, 10)"
      ]
     },
     "execution_count": 23,
     "metadata": {},
     "output_type": "execute_result"
    }
   ],
   "source": [
    "lag_df.shape"
   ]
  },
  {
   "cell_type": "markdown",
   "id": "a8c6f96b",
   "metadata": {},
   "source": [
    "#### Add a column of constant "
   ]
  },
  {
   "cell_type": "code",
   "execution_count": 24,
   "id": "e2ef28fd",
   "metadata": {},
   "outputs": [],
   "source": [
    "lag_df.insert(0,'const', 1 )\n",
    "#lag_df"
   ]
  },
  {
   "cell_type": "code",
   "execution_count": 25,
   "id": "a424ffb1",
   "metadata": {},
   "outputs": [
    {
     "data": {
      "text/plain": [
       "const    1.000000\n",
       "l0       0.579939\n",
       "l1      -1.094230\n",
       "l2      -0.529132\n",
       "l3      -0.001496\n",
       "l4       0.217601\n",
       "l5       0.245513\n",
       "l6       0.198696\n",
       "l7       0.138734\n",
       "l8       0.088872\n",
       "Name: 1, dtype: float64"
      ]
     },
     "execution_count": 25,
     "metadata": {},
     "output_type": "execute_result"
    }
   ],
   "source": [
    "lag_df.iloc[1,:-1]"
   ]
  },
  {
   "cell_type": "markdown",
   "id": "85206bf2",
   "metadata": {},
   "source": [
    "## Recursive Least Square Method implementation"
   ]
  },
  {
   "cell_type": "code",
   "execution_count": 26,
   "id": "78d4a9e3",
   "metadata": {},
   "outputs": [],
   "source": [
    "# Initialization\n",
    "theta = np.zeros((J+1,1))\n",
    "phi = np.empty((1,J+1))\n",
    "P = np.eye((J+1))*100"
   ]
  },
  {
   "cell_type": "code",
   "execution_count": 27,
   "id": "a2442c49",
   "metadata": {},
   "outputs": [
    {
     "data": {
      "text/plain": [
       "(1, 10)"
      ]
     },
     "execution_count": 27,
     "metadata": {},
     "output_type": "execute_result"
    }
   ],
   "source": [
    "np.expand_dims(phi[0], axis=0).shape\n"
   ]
  },
  {
   "cell_type": "code",
   "execution_count": 28,
   "id": "b846d5ed",
   "metadata": {},
   "outputs": [
    {
     "data": {
      "text/plain": [
       "(10, 1)"
      ]
     },
     "execution_count": 28,
     "metadata": {},
     "output_type": "execute_result"
    }
   ],
   "source": [
    "np.expand_dims(lag_df.iloc[1,:-1], axis=1).shape"
   ]
  },
  {
   "cell_type": "code",
   "execution_count": 29,
   "id": "b19e5418",
   "metadata": {},
   "outputs": [
    {
     "data": {
      "text/plain": [
       "(3567, 10)"
      ]
     },
     "execution_count": 29,
     "metadata": {},
     "output_type": "execute_result"
    }
   ],
   "source": [
    "x = np.array([lag_df.iloc[i,:-1] for i in range(len(lag_df))])\n",
    "x.shape"
   ]
  },
  {
   "cell_type": "code",
   "execution_count": 30,
   "id": "25b12cc8",
   "metadata": {},
   "outputs": [
    {
     "data": {
      "text/plain": [
       "array([ 1.        ,  0.3952    , -0.53021644, -0.55328   , -0.38882539,\n",
       "       -0.23712   , -0.1343215 , -0.0727168 , -0.03817558, -0.01960192])"
      ]
     },
     "execution_count": 30,
     "metadata": {},
     "output_type": "execute_result"
    }
   ],
   "source": [
    "x[0]"
   ]
  },
  {
   "cell_type": "code",
   "execution_count": 31,
   "id": "2296095b",
   "metadata": {},
   "outputs": [
    {
     "data": {
      "text/plain": [
       "(3567,)"
      ]
     },
     "execution_count": 31,
     "metadata": {},
     "output_type": "execute_result"
    }
   ],
   "source": [
    "y = lag_df['RR']\n",
    "y.shape"
   ]
  },
  {
   "cell_type": "markdown",
   "id": "0d9f8b9f",
   "metadata": {},
   "source": [
    "### Calculate the indices for widow size 90 and forgetting factor .98"
   ]
  },
  {
   "cell_type": "code",
   "execution_count": 32,
   "id": "56f0a653",
   "metadata": {},
   "outputs": [],
   "source": [
    "# Implementing RLS algorithm\n",
    "class RecursiveLeastSquares:\n",
    "    def __init__(self, num_parameters, forgetting_factor):\n",
    "        self.num_parameters = num_parameters\n",
    "        self.forgetting_factor = forgetting_factor\n",
    "        self.theta = np.zeros((num_parameters,1))\n",
    "        self.P = np.eye(num_parameters)  # Initial covariance matrix\n",
    "\n",
    "    def update_params(self, x, y):\n",
    "        x = np.reshape(x, (self.num_parameters, 1))  # Reshape input vector\n",
    "        y_hat = np.dot(np.transpose(self.theta), x)  # Predicted output\n",
    "\n",
    "\n",
    "        # Calculate the gain matrix\n",
    "        k = np.dot(self.P, x) / (self.forgetting_factor + np.dot(np.dot(np.transpose(x), self.P), x))\n",
    "\n",
    "        # Update the estimated parameter \n",
    "        self.theta = self.theta + np.dot(k, (y - y_hat))\n",
    "\n",
    "        # Update the covariance matrix\n",
    "        self.P = (1 / self.forgetting_factor) * (self.P - np.dot(np.dot(k, np.transpose(x)), self.P))\n",
    "\n",
    "    def get_parameters(self):\n",
    "        return self.theta"
   ]
  },
  {
   "cell_type": "code",
   "execution_count": 33,
   "id": "802a567a",
   "metadata": {},
   "outputs": [],
   "source": [
    "# Create an instance of the RLS estimator\n",
    "rls_estimator = RecursiveLeastSquares(num_parameters, forgetting_factor)\n",
    "params_w_100 = []\n",
    "\n",
    "# Perform recursive parameter estimation\n",
    "for i in range(W_n, len(lag_df)):\n",
    "    rls_estimator = RecursiveLeastSquares(num_parameters, forgetting_factor)\n",
    "    x_w_n = np.array(x[i-W_n:i])\n",
    "    y_w_n = np.array(y[i-W_n:i])\n",
    "    [rls_estimator.update_params(x_w_n[j], y_w_n[j]) for j in range(W_n)]\n",
    "    params_w_100.append(rls_estimator.get_parameters())\n",
    "    #print(rls_estimator.get_parameters()) #Get the estimated parameters"
   ]
  },
  {
   "cell_type": "code",
   "execution_count": 34,
   "id": "f52a4424",
   "metadata": {},
   "outputs": [
    {
     "data": {
      "text/plain": [
       "array([[ 0.34571502,  0.20339073, -0.33268638, ..., -0.01382298,\n",
       "         0.0083947 ,  0.00729634],\n",
       "       [ 0.25441143,  0.19370591, -0.36850646, ...,  0.00405184,\n",
       "         0.01957977,  0.01211662],\n",
       "       [ 0.19987302,  0.17216624, -0.36047072, ..., -0.03865437,\n",
       "        -0.00804129,  0.00283673],\n",
       "       ...,\n",
       "       [ 0.03955922,  0.13447169, -0.25434195, ...,  0.01729611,\n",
       "        -0.02647779,  0.04427964],\n",
       "       [ 0.0400531 ,  0.1319314 , -0.2498952 , ...,  0.01830828,\n",
       "        -0.02787732,  0.04612428],\n",
       "       [ 0.03048383,  0.13979321, -0.26158099, ...,  0.00745148,\n",
       "        -0.03433151,  0.04162126]])"
      ]
     },
     "execution_count": 34,
     "metadata": {},
     "output_type": "execute_result"
    }
   ],
   "source": [
    "#reduce the dimension of list elements\n",
    "params_w_100=np.squeeze(params_w_100)\n",
    "params_w_100"
   ]
  },
  {
   "cell_type": "code",
   "execution_count": 35,
   "id": "9a8f9eaa",
   "metadata": {},
   "outputs": [
    {
     "name": "stdout",
     "output_type": "stream",
     "text": [
      "3477\n",
      "(3477, 10)\n"
     ]
    }
   ],
   "source": [
    "print(len(params_w_100))\n",
    "print(params_w_100.shape)"
   ]
  },
  {
   "cell_type": "markdown",
   "id": "706520b2",
   "metadata": {},
   "source": [
    "#### Calculate the indices"
   ]
  },
  {
   "cell_type": "code",
   "execution_count": 36,
   "id": "ccb82892",
   "metadata": {},
   "outputs": [],
   "source": [
    "SAI = coeff_S[0] + np.sum(coeff_S[1:]*params_w_100[:,1:3], axis=1)\n",
    "PAI = coeff_P[0] + np.sum(coeff_P[1:7]*params_w_100[:,4:], axis=1)"
   ]
  },
  {
   "cell_type": "code",
   "execution_count": 37,
   "id": "44a7ad84",
   "metadata": {},
   "outputs": [
    {
     "data": {
      "text/plain": [
       "3477"
      ]
     },
     "execution_count": 37,
     "metadata": {},
     "output_type": "execute_result"
    }
   ],
   "source": [
    "len(SAI)"
   ]
  },
  {
   "cell_type": "code",
   "execution_count": 38,
   "id": "fbdd7537",
   "metadata": {},
   "outputs": [
    {
     "data": {
      "text/plain": [
       "{'plateau_sizes': array([   58, 46864, 49757, 43501, 37002], dtype=int64),\n",
       " 'left_edges': array([100072, 100133, 250835, 624706, 732443], dtype=int64),\n",
       " 'right_edges': array([100129, 146996, 300591, 668206, 769444], dtype=int64),\n",
       " 'peak_heights': array([74., 74., 75., 74., 75.]),\n",
       " 'prominences': array([74., 74., 75., 74., 75.]),\n",
       " 'left_bases': array([ 87529,  87529, 250300, 612056, 731983], dtype=int64),\n",
       " 'right_bases': array([159382, 159382, 301187, 680639, 770021], dtype=int64),\n",
       " 'widths': array([57691., 57691., 50314., 54405., 37469.]),\n",
       " 'width_heights': array([37. , 37. , 37.5, 37. , 37.5]),\n",
       " 'left_ips': array([ 94643. ,  94643. , 250488.5, 619188. , 732169.5]),\n",
       " 'right_ips': array([152334. , 152334. , 300802.5, 673593. , 769638.5])}"
      ]
     },
     "execution_count": 38,
     "metadata": {},
     "output_type": "execute_result"
    }
   ],
   "source": [
    "peaks,  props= find_peaks(np.round(angle_df.Angle), width=3, height=[73,76], plateau_size = 3)\n",
    "props"
   ]
  },
  {
   "cell_type": "code",
   "execution_count": 39,
   "id": "0fef9aae",
   "metadata": {},
   "outputs": [
    {
     "data": {
      "text/plain": [
       "<matplotlib.legend.Legend at 0x1d39ee93940>"
      ]
     },
     "execution_count": 39,
     "metadata": {},
     "output_type": "execute_result"
    },
    {
     "data": {
      "image/png": "[encoded data removed]",
      "text/plain": [
       "<Figure size 1080x360 with 1 Axes>"
      ]
     },
     "metadata": {
      "needs_background": "light"
     },
     "output_type": "display_data"
    }
   ],
   "source": [
    "fig, ax = plt.subplots(1,1,figsize = (15,5))\n",
    "import seaborn as sns\n",
    "\n",
    "plt.plot(RR_clean['beats'][90:]/60, normalize(SAI), color='red', label='SAI')\n",
    "plt.plot(RR_clean['beats'][90:]/60, normalize(PAI), color='green', label='PAI')\n",
    "plt.plot(RR_clean['beats'][90:]/60, normalize(RR_clean['angle_peaks'][90:]), label='angle')\n",
    "\n",
    "ax.legend(['SAI', 'PAI', 'Angle'])\n"
   ]
  },
  {
   "cell_type": "code",
   "execution_count": 40,
   "id": "27b079d6",
   "metadata": {},
   "outputs": [
    {
     "data": {
      "text/plain": [
       "(-0.2935748527316747, 4.494465852155045e-70)"
      ]
     },
     "execution_count": 40,
     "metadata": {},
     "output_type": "execute_result"
    }
   ],
   "source": [
    "stats.pearsonr(SAI, RR_clean['angle_peaks'][90:])\n"
   ]
  },
  {
   "cell_type": "code",
   "execution_count": 41,
   "id": "2b3d656e",
   "metadata": {},
   "outputs": [
    {
     "data": {
      "text/plain": [
       "(0.04028891182004305, 0.01751142382855277)"
      ]
     },
     "execution_count": 41,
     "metadata": {},
     "output_type": "execute_result"
    }
   ],
   "source": [
    "stats.pearsonr(PAI, RR_clean['angle_peaks'][90:])"
   ]
  },
  {
   "cell_type": "code",
   "execution_count": 42,
   "id": "15100977",
   "metadata": {},
   "outputs": [
    {
     "data": {
      "text/plain": [
       "<matplotlib.legend.Legend at 0x1d39ef76880>"
      ]
     },
     "execution_count": 42,
     "metadata": {},
     "output_type": "execute_result"
    },
    {
     "data": {
      "image/png": "[encoded data removed]",
      "text/plain": [
       "<Figure size 1080x432 with 2 Axes>"
      ]
     },
     "metadata": {
      "needs_background": "light"
     },
     "output_type": "display_data"
    }
   ],
   "source": [
    "# Instantiate a second axes that shares the same x-axis\n",
    "fig, ax1 = plt.subplots(1,1, figsize=(15, 6))\n",
    "ax2 = ax1.twinx()\n",
    "\n",
    "ax1.plot(RR_clean['beats'][W_n:]/60, normalize(SAI), color='red', label='SAI')\n",
    "ax1.plot(RR_clean['beats'][W_n:]/60, normalize(PAI), color='green', label='PAI')\n",
    "ax2.plot(RR_clean['beats'][W_n:]/60, RR_clean['angle_peaks'][W_n:], label='angle')\n",
    "ax1.set_xlabel(\"time (in min)\")\n",
    "ax2.set_ylabel(\"Angle\")\n",
    "ax1.set_ylabel(\"Normalized values of SAI/PAI\")\n",
    "ax1.legend(['SAI', 'PAI'], loc='upper left')\n",
    "ax2.legend(['Angle'])"
   ]
  },
  {
   "cell_type": "code",
   "execution_count": null,
   "id": "0fb46cb5",
   "metadata": {},
   "outputs": [],
   "source": []
  },
  {
   "cell_type": "code",
   "execution_count": null,
   "id": "9d4923fe",
   "metadata": {},
   "outputs": [],
   "source": []
  }
 ],
 "metadata": {
  "kernelspec": {
   "display_name": "Python 3 (ipykernel)",
   "language": "python",
   "name": "python3"
  },
  "language_info": {
   "codemirror_mode": {
    "name": "ipython",
    "version": 3
   },
   "file_extension": ".py",
   "mimetype": "text/x-python",
   "name": "python",
   "nbconvert_exporter": "python",
   "pygments_lexer": "ipython3",
   "version": "3.9.7"
  }
 },
 "nbformat": 4,
 "nbformat_minor": 5
}
